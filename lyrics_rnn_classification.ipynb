{
  "nbformat": 4,
  "nbformat_minor": 5,
  "metadata": {
    "kernelspec": {
      "display_name": "Python 3",
      "language": "python",
      "name": "python3"
    },
    "language_info": {
      "codemirror_mode": {
        "name": "ipython",
        "version": 3
      },
      "file_extension": ".py",
      "mimetype": "text/x-python",
      "name": "python",
      "nbconvert_exporter": "python",
      "pygments_lexer": "ipython3",
      "version": "3.8.3"
    },
    "colab": {
      "name": "Kopia notatnika lyrics_rnn_classification.ipynb",
      "provenance": [],
      "collapsed_sections": [
        "stopped-wheel"
      ],
      "toc_visible": true
    }
  },
  "cells": [
    {
      "cell_type": "markdown",
      "metadata": {
        "id": "urban-wound"
      },
      "source": [
        "## LOAD DATA"
      ],
      "id": "urban-wound"
    },
    {
      "cell_type": "code",
      "metadata": {
        "colab": {
          "base_uri": "https://localhost:8080/"
        },
        "id": "3C5p-WQ_zJSs",
        "outputId": "7cc0c962-ae57-460a-deb8-d938cd495909"
      },
      "source": [
        "!pip install tensorflow_text"
      ],
      "id": "3C5p-WQ_zJSs",
      "execution_count": null,
      "outputs": [
        {
          "output_type": "stream",
          "text": [
            "Collecting tensorflow_text\n",
            "\u001b[?25l  Downloading https://files.pythonhosted.org/packages/b6/c0/c0fed4301f592c3b56638ae7292612c17d91a43891ba1aaf9636d535beae/tensorflow_text-2.4.3-cp37-cp37m-manylinux1_x86_64.whl (3.4MB)\n",
            "\u001b[K     |████████████████████████████████| 3.4MB 12.8MB/s \n",
            "\u001b[?25hRequirement already satisfied: tensorflow<2.5,>=2.4.0 in /usr/local/lib/python3.7/dist-packages (from tensorflow_text) (2.4.1)\n",
            "Requirement already satisfied: tensorflow-hub>=0.8.0 in /usr/local/lib/python3.7/dist-packages (from tensorflow_text) (0.12.0)\n",
            "Requirement already satisfied: grpcio~=1.32.0 in /usr/local/lib/python3.7/dist-packages (from tensorflow<2.5,>=2.4.0->tensorflow_text) (1.32.0)\n",
            "Requirement already satisfied: protobuf>=3.9.2 in /usr/local/lib/python3.7/dist-packages (from tensorflow<2.5,>=2.4.0->tensorflow_text) (3.12.4)\n",
            "Requirement already satisfied: tensorboard~=2.4 in /usr/local/lib/python3.7/dist-packages (from tensorflow<2.5,>=2.4.0->tensorflow_text) (2.4.1)\n",
            "Requirement already satisfied: numpy~=1.19.2 in /usr/local/lib/python3.7/dist-packages (from tensorflow<2.5,>=2.4.0->tensorflow_text) (1.19.5)\n",
            "Requirement already satisfied: h5py~=2.10.0 in /usr/local/lib/python3.7/dist-packages (from tensorflow<2.5,>=2.4.0->tensorflow_text) (2.10.0)\n",
            "Requirement already satisfied: keras-preprocessing~=1.1.2 in /usr/local/lib/python3.7/dist-packages (from tensorflow<2.5,>=2.4.0->tensorflow_text) (1.1.2)\n",
            "Requirement already satisfied: gast==0.3.3 in /usr/local/lib/python3.7/dist-packages (from tensorflow<2.5,>=2.4.0->tensorflow_text) (0.3.3)\n",
            "Requirement already satisfied: absl-py~=0.10 in /usr/local/lib/python3.7/dist-packages (from tensorflow<2.5,>=2.4.0->tensorflow_text) (0.12.0)\n",
            "Requirement already satisfied: typing-extensions~=3.7.4 in /usr/local/lib/python3.7/dist-packages (from tensorflow<2.5,>=2.4.0->tensorflow_text) (3.7.4.3)\n",
            "Requirement already satisfied: tensorflow-estimator<2.5.0,>=2.4.0 in /usr/local/lib/python3.7/dist-packages (from tensorflow<2.5,>=2.4.0->tensorflow_text) (2.4.0)\n",
            "Requirement already satisfied: wheel~=0.35 in /usr/local/lib/python3.7/dist-packages (from tensorflow<2.5,>=2.4.0->tensorflow_text) (0.36.2)\n",
            "Requirement already satisfied: termcolor~=1.1.0 in /usr/local/lib/python3.7/dist-packages (from tensorflow<2.5,>=2.4.0->tensorflow_text) (1.1.0)\n",
            "Requirement already satisfied: six~=1.15.0 in /usr/local/lib/python3.7/dist-packages (from tensorflow<2.5,>=2.4.0->tensorflow_text) (1.15.0)\n",
            "Requirement already satisfied: flatbuffers~=1.12.0 in /usr/local/lib/python3.7/dist-packages (from tensorflow<2.5,>=2.4.0->tensorflow_text) (1.12)\n",
            "Requirement already satisfied: astunparse~=1.6.3 in /usr/local/lib/python3.7/dist-packages (from tensorflow<2.5,>=2.4.0->tensorflow_text) (1.6.3)\n",
            "Requirement already satisfied: wrapt~=1.12.1 in /usr/local/lib/python3.7/dist-packages (from tensorflow<2.5,>=2.4.0->tensorflow_text) (1.12.1)\n",
            "Requirement already satisfied: google-pasta~=0.2 in /usr/local/lib/python3.7/dist-packages (from tensorflow<2.5,>=2.4.0->tensorflow_text) (0.2.0)\n",
            "Requirement already satisfied: opt-einsum~=3.3.0 in /usr/local/lib/python3.7/dist-packages (from tensorflow<2.5,>=2.4.0->tensorflow_text) (3.3.0)\n",
            "Requirement already satisfied: setuptools in /usr/local/lib/python3.7/dist-packages (from protobuf>=3.9.2->tensorflow<2.5,>=2.4.0->tensorflow_text) (56.1.0)\n",
            "Requirement already satisfied: requests<3,>=2.21.0 in /usr/local/lib/python3.7/dist-packages (from tensorboard~=2.4->tensorflow<2.5,>=2.4.0->tensorflow_text) (2.23.0)\n",
            "Requirement already satisfied: werkzeug>=0.11.15 in /usr/local/lib/python3.7/dist-packages (from tensorboard~=2.4->tensorflow<2.5,>=2.4.0->tensorflow_text) (2.0.0)\n",
            "Requirement already satisfied: tensorboard-plugin-wit>=1.6.0 in /usr/local/lib/python3.7/dist-packages (from tensorboard~=2.4->tensorflow<2.5,>=2.4.0->tensorflow_text) (1.8.0)\n",
            "Requirement already satisfied: google-auth<2,>=1.6.3 in /usr/local/lib/python3.7/dist-packages (from tensorboard~=2.4->tensorflow<2.5,>=2.4.0->tensorflow_text) (1.30.0)\n",
            "Requirement already satisfied: markdown>=2.6.8 in /usr/local/lib/python3.7/dist-packages (from tensorboard~=2.4->tensorflow<2.5,>=2.4.0->tensorflow_text) (3.3.4)\n",
            "Requirement already satisfied: google-auth-oauthlib<0.5,>=0.4.1 in /usr/local/lib/python3.7/dist-packages (from tensorboard~=2.4->tensorflow<2.5,>=2.4.0->tensorflow_text) (0.4.4)\n",
            "Requirement already satisfied: urllib3!=1.25.0,!=1.25.1,<1.26,>=1.21.1 in /usr/local/lib/python3.7/dist-packages (from requests<3,>=2.21.0->tensorboard~=2.4->tensorflow<2.5,>=2.4.0->tensorflow_text) (1.24.3)\n",
            "Requirement already satisfied: idna<3,>=2.5 in /usr/local/lib/python3.7/dist-packages (from requests<3,>=2.21.0->tensorboard~=2.4->tensorflow<2.5,>=2.4.0->tensorflow_text) (2.10)\n",
            "Requirement already satisfied: chardet<4,>=3.0.2 in /usr/local/lib/python3.7/dist-packages (from requests<3,>=2.21.0->tensorboard~=2.4->tensorflow<2.5,>=2.4.0->tensorflow_text) (3.0.4)\n",
            "Requirement already satisfied: certifi>=2017.4.17 in /usr/local/lib/python3.7/dist-packages (from requests<3,>=2.21.0->tensorboard~=2.4->tensorflow<2.5,>=2.4.0->tensorflow_text) (2020.12.5)\n",
            "Requirement already satisfied: cachetools<5.0,>=2.0.0 in /usr/local/lib/python3.7/dist-packages (from google-auth<2,>=1.6.3->tensorboard~=2.4->tensorflow<2.5,>=2.4.0->tensorflow_text) (4.2.2)\n",
            "Requirement already satisfied: pyasn1-modules>=0.2.1 in /usr/local/lib/python3.7/dist-packages (from google-auth<2,>=1.6.3->tensorboard~=2.4->tensorflow<2.5,>=2.4.0->tensorflow_text) (0.2.8)\n",
            "Requirement already satisfied: rsa<5,>=3.1.4; python_version >= \"3.6\" in /usr/local/lib/python3.7/dist-packages (from google-auth<2,>=1.6.3->tensorboard~=2.4->tensorflow<2.5,>=2.4.0->tensorflow_text) (4.7.2)\n",
            "Requirement already satisfied: importlib-metadata; python_version < \"3.8\" in /usr/local/lib/python3.7/dist-packages (from markdown>=2.6.8->tensorboard~=2.4->tensorflow<2.5,>=2.4.0->tensorflow_text) (4.0.1)\n",
            "Requirement already satisfied: requests-oauthlib>=0.7.0 in /usr/local/lib/python3.7/dist-packages (from google-auth-oauthlib<0.5,>=0.4.1->tensorboard~=2.4->tensorflow<2.5,>=2.4.0->tensorflow_text) (1.3.0)\n",
            "Requirement already satisfied: pyasn1<0.5.0,>=0.4.6 in /usr/local/lib/python3.7/dist-packages (from pyasn1-modules>=0.2.1->google-auth<2,>=1.6.3->tensorboard~=2.4->tensorflow<2.5,>=2.4.0->tensorflow_text) (0.4.8)\n",
            "Requirement already satisfied: zipp>=0.5 in /usr/local/lib/python3.7/dist-packages (from importlib-metadata; python_version < \"3.8\"->markdown>=2.6.8->tensorboard~=2.4->tensorflow<2.5,>=2.4.0->tensorflow_text) (3.4.1)\n",
            "Requirement already satisfied: oauthlib>=3.0.0 in /usr/local/lib/python3.7/dist-packages (from requests-oauthlib>=0.7.0->google-auth-oauthlib<0.5,>=0.4.1->tensorboard~=2.4->tensorflow<2.5,>=2.4.0->tensorflow_text) (3.1.0)\n",
            "Installing collected packages: tensorflow-text\n",
            "Successfully installed tensorflow-text-2.4.3\n"
          ],
          "name": "stdout"
        }
      ]
    },
    {
      "cell_type": "code",
      "metadata": {
        "id": "R1UQrRoFzbZo",
        "colab": {
          "base_uri": "https://localhost:8080/"
        },
        "outputId": "f195df5c-32e3-4246-a104-2bc05ff630fc"
      },
      "source": [
        "from google.colab import drive\n",
        "drive.mount('/content/drive')"
      ],
      "id": "R1UQrRoFzbZo",
      "execution_count": null,
      "outputs": [
        {
          "output_type": "stream",
          "text": [
            "Mounted at /content/drive\n"
          ],
          "name": "stdout"
        }
      ]
    },
    {
      "cell_type": "code",
      "metadata": {
        "id": "analyzed-proposal"
      },
      "source": [
        "import collections\n",
        "import pathlib\n",
        "import re\n",
        "import string\n",
        "\n",
        "import tensorflow as tf\n",
        "\n",
        "from tensorflow.keras import layers\n",
        "from tensorflow.keras import losses\n",
        "from tensorflow.keras import preprocessing\n",
        "from tensorflow.keras import utils\n",
        "from tensorflow.keras.layers.experimental.preprocessing import TextVectorization\n",
        "\n",
        "import tensorflow_datasets as tfds\n",
        "import tensorflow_text as tf_text\n",
        "import pandas as pd\n",
        "import numpy as np"
      ],
      "id": "analyzed-proposal",
      "execution_count": null,
      "outputs": []
    },
    {
      "cell_type": "code",
      "metadata": {
        "id": "amber-worcester"
      },
      "source": [
        "df = pd.read_csv(\"/content/drive/MyDrive/main_lines_verses.csv\")"
      ],
      "id": "amber-worcester",
      "execution_count": null,
      "outputs": []
    },
    {
      "cell_type": "code",
      "metadata": {
        "id": "brutal-restriction"
      },
      "source": [
        "from sklearn.utils import shuffle\n",
        "df = shuffle(df)"
      ],
      "id": "brutal-restriction",
      "execution_count": null,
      "outputs": []
    },
    {
      "cell_type": "code",
      "metadata": {
        "colab": {
          "base_uri": "https://localhost:8080/",
          "height": 204
        },
        "id": "powerful-wichita",
        "outputId": "bb783fea-1f8e-42b0-8bfd-b7f2a8e10d18"
      },
      "source": [
        "df.head()"
      ],
      "id": "powerful-wichita",
      "execution_count": null,
      "outputs": [
        {
          "output_type": "execute_result",
          "data": {
            "text/html": [
              "<div>\n",
              "<style scoped>\n",
              "    .dataframe tbody tr th:only-of-type {\n",
              "        vertical-align: middle;\n",
              "    }\n",
              "\n",
              "    .dataframe tbody tr th {\n",
              "        vertical-align: top;\n",
              "    }\n",
              "\n",
              "    .dataframe thead th {\n",
              "        text-align: right;\n",
              "    }\n",
              "</style>\n",
              "<table border=\"1\" class=\"dataframe\">\n",
              "  <thead>\n",
              "    <tr style=\"text-align: right;\">\n",
              "      <th></th>\n",
              "      <th>artist_name</th>\n",
              "      <th>line</th>\n",
              "    </tr>\n",
              "  </thead>\n",
              "  <tbody>\n",
              "    <tr>\n",
              "      <th>42982</th>\n",
              "      <td>Drake &amp; Giggs</td>\n",
              "      <td>You don't know nothin' 'bout me</td>\n",
              "    </tr>\n",
              "    <tr>\n",
              "      <th>77110</th>\n",
              "      <td>Ice Cube</td>\n",
              "      <td>Gorilla niggas, here come King Kong</td>\n",
              "    </tr>\n",
              "    <tr>\n",
              "      <th>39850</th>\n",
              "      <td>Prophet</td>\n",
              "      <td>Of almost every hot rapper in the past 20 years</td>\n",
              "    </tr>\n",
              "    <tr>\n",
              "      <th>65740</th>\n",
              "      <td>Guru</td>\n",
              "      <td>Hit man, with ice in his veins</td>\n",
              "    </tr>\n",
              "    <tr>\n",
              "      <th>64094</th>\n",
              "      <td>Guru</td>\n",
              "      <td>One of the meanest and the cleanest</td>\n",
              "    </tr>\n",
              "  </tbody>\n",
              "</table>\n",
              "</div>"
            ],
            "text/plain": [
              "         artist_name                                             line\n",
              "42982  Drake & Giggs                  You don't know nothin' 'bout me\n",
              "77110       Ice Cube              Gorilla niggas, here come King Kong\n",
              "39850        Prophet  Of almost every hot rapper in the past 20 years\n",
              "65740           Guru                   Hit man, with ice in his veins\n",
              "64094           Guru              One of the meanest and the cleanest"
            ]
          },
          "metadata": {
            "tags": []
          },
          "execution_count": 12
        }
      ]
    },
    {
      "cell_type": "code",
      "metadata": {
        "scrolled": true,
        "colab": {
          "base_uri": "https://localhost:8080/"
        },
        "id": "several-eleven",
        "outputId": "cbc6f907-4d68-4c0c-d728-1086a9d53777"
      },
      "source": [
        "df['artist_name'].value_counts().sort_index()"
      ],
      "id": "several-eleven",
      "execution_count": null,
      "outputs": [
        {
          "output_type": "execute_result",
          "data": {
            "text/plain": [
              " 2Pac & Tyrone Wrice     5\n",
              " Drake                  22\n",
              " Goldie Loc             79\n",
              " King Gordy             32\n",
              " Method Man             17\n",
              "                        ..\n",
              "iNTeLL                  16\n",
              "mark curry              18\n",
              "p. diddy over Hook       8\n",
              "stic.man, dead prez      9\n",
              "will.i.am               13\n",
              "Name: artist_name, Length: 1262, dtype: int64"
            ]
          },
          "metadata": {
            "tags": []
          },
          "execution_count": 13
        }
      ]
    },
    {
      "cell_type": "code",
      "metadata": {
        "id": "proud-geometry"
      },
      "source": [
        "# df.replace(\"Jay-Z\", \"JAY-Z\", inplace=True)\n",
        "# df.replace(\"KRS-One\", \"KRS-ONE\", inplace=True)\n",
        "# df.replace(\"LL Cool J\", \"L.L. Cool J\", inplace=True)\n",
        "# df.replace(\"Royce da 5'9\", \"Royce Da 5'9\", inplace=True)\n",
        "df.replace(\"Notorious B.I.G.\", \"The Notorious B.I.G.\", inplace=True)\n",
        "df = df.groupby('artist_name').filter(lambda x : len(x)>1000)\n",
        "df = df[df['line'].apply(lambda x: len(x.split(\" \")) > 3)]"
      ],
      "id": "proud-geometry",
      "execution_count": null,
      "outputs": []
    },
    {
      "cell_type": "code",
      "metadata": {
        "id": "urban-aluminum"
      },
      "source": [
        "list = ['The Notorious B.I.G.', 'Ice Cube', 'Nas', '2Pac', 'Method Man', 'Eminem',\n",
        "        'Snoop Dogg', 'DMX', 'Dr. Dre', 'GZA', 'The Notorious B.I.G.', 'RZA']\n",
        "df = df[df['artist_name'].isin(list)]"
      ],
      "id": "urban-aluminum",
      "execution_count": null,
      "outputs": []
    },
    {
      "cell_type": "code",
      "metadata": {
        "colab": {
          "base_uri": "https://localhost:8080/"
        },
        "id": "extensive-checkout",
        "outputId": "3fce3b7e-d88a-48ce-87d1-4c6b726f3841"
      },
      "source": [
        "df['artist_name'].value_counts()"
      ],
      "id": "extensive-checkout",
      "execution_count": null,
      "outputs": [
        {
          "output_type": "execute_result",
          "data": {
            "text/plain": [
              "Eminem                  8377\n",
              "Ice Cube                4381\n",
              "Nas                     3821\n",
              "2Pac                    3775\n",
              "Method Man              3331\n",
              "The Notorious B.I.G.    2695\n",
              "Snoop Dogg              2626\n",
              "DMX                     2562\n",
              "Dr. Dre                 2235\n",
              "GZA                     2033\n",
              "RZA                     1762\n",
              "Name: artist_name, dtype: int64"
            ]
          },
          "metadata": {
            "tags": []
          },
          "execution_count": 16
        }
      ]
    },
    {
      "cell_type": "code",
      "metadata": {
        "id": "becoming-object"
      },
      "source": [
        "lyrics_features = df['line']\n",
        "lyrics_labels = df.pop('artist_name')"
      ],
      "id": "becoming-object",
      "execution_count": null,
      "outputs": []
    },
    {
      "cell_type": "code",
      "metadata": {
        "colab": {
          "base_uri": "https://localhost:8080/"
        },
        "id": "chemical-wrapping",
        "outputId": "8694bd92-6f06-43a4-c391-654a44569dee"
      },
      "source": [
        "lyrics_labels"
      ],
      "id": "chemical-wrapping",
      "execution_count": null,
      "outputs": [
        {
          "output_type": "execute_result",
          "data": {
            "text/plain": [
              "77110                 Ice Cube\n",
              "939                       2Pac\n",
              "50605                   Eminem\n",
              "72620                      GZA\n",
              "175401              Snoop Dogg\n",
              "                  ...         \n",
              "79735                 Ice Cube\n",
              "49364                   Eminem\n",
              "29962     The Notorious B.I.G.\n",
              "178956                 Dr. Dre\n",
              "32563                 Ice Cube\n",
              "Name: artist_name, Length: 37598, dtype: object"
            ]
          },
          "metadata": {
            "tags": []
          },
          "execution_count": 18
        }
      ]
    },
    {
      "cell_type": "code",
      "metadata": {
        "colab": {
          "base_uri": "https://localhost:8080/"
        },
        "id": "renewable-following",
        "outputId": "6ab410d3-37a2-492e-c42b-8792c5ebddb2"
      },
      "source": [
        "set(lyrics_labels)"
      ],
      "id": "renewable-following",
      "execution_count": null,
      "outputs": [
        {
          "output_type": "execute_result",
          "data": {
            "text/plain": [
              "{'2Pac',\n",
              " 'DMX',\n",
              " 'Dr. Dre',\n",
              " 'Eminem',\n",
              " 'GZA',\n",
              " 'Ice Cube',\n",
              " 'Method Man',\n",
              " 'Nas',\n",
              " 'RZA',\n",
              " 'Snoop Dogg',\n",
              " 'The Notorious B.I.G.'}"
            ]
          },
          "metadata": {
            "tags": []
          },
          "execution_count": 19
        }
      ]
    },
    {
      "cell_type": "code",
      "metadata": {
        "colab": {
          "base_uri": "https://localhost:8080/"
        },
        "id": "honey-brunei",
        "outputId": "835032f4-a649-46a2-d9b8-cd276f14b926"
      },
      "source": [
        "len(set(lyrics_labels))"
      ],
      "id": "honey-brunei",
      "execution_count": null,
      "outputs": [
        {
          "output_type": "execute_result",
          "data": {
            "text/plain": [
              "11"
            ]
          },
          "metadata": {
            "tags": []
          },
          "execution_count": 20
        }
      ]
    },
    {
      "cell_type": "code",
      "metadata": {
        "id": "considered-wiring"
      },
      "source": [
        "lyrics_labels = lyrics_labels.astype(\"category\")"
      ],
      "id": "considered-wiring",
      "execution_count": null,
      "outputs": []
    },
    {
      "cell_type": "code",
      "metadata": {
        "colab": {
          "base_uri": "https://localhost:8080/"
        },
        "id": "optimum-valuation",
        "outputId": "23ff795d-1096-4ff0-efd8-d9fa9937ff58"
      },
      "source": [
        "artist_ids = dict(enumerate(lyrics_labels.cat.categories))\n",
        "artist_ids"
      ],
      "id": "optimum-valuation",
      "execution_count": null,
      "outputs": [
        {
          "output_type": "execute_result",
          "data": {
            "text/plain": [
              "{0: '2Pac',\n",
              " 1: 'DMX',\n",
              " 2: 'Dr. Dre',\n",
              " 3: 'Eminem',\n",
              " 4: 'GZA',\n",
              " 5: 'Ice Cube',\n",
              " 6: 'Method Man',\n",
              " 7: 'Nas',\n",
              " 8: 'RZA',\n",
              " 9: 'Snoop Dogg',\n",
              " 10: 'The Notorious B.I.G.'}"
            ]
          },
          "metadata": {
            "tags": []
          },
          "execution_count": 22
        }
      ]
    },
    {
      "cell_type": "code",
      "metadata": {
        "id": "filled-argentina"
      },
      "source": [
        "lyrics_labels = lyrics_labels.cat.codes"
      ],
      "id": "filled-argentina",
      "execution_count": null,
      "outputs": []
    },
    {
      "cell_type": "code",
      "metadata": {
        "colab": {
          "base_uri": "https://localhost:8080/"
        },
        "id": "adult-counter",
        "outputId": "a2e6fbe8-7280-4e15-c200-1f42bac10a0b"
      },
      "source": [
        "lyrics_labels"
      ],
      "id": "adult-counter",
      "execution_count": null,
      "outputs": [
        {
          "output_type": "execute_result",
          "data": {
            "text/plain": [
              "77110      5\n",
              "939        0\n",
              "50605      3\n",
              "72620      4\n",
              "175401     9\n",
              "          ..\n",
              "79735      5\n",
              "49364      3\n",
              "29962     10\n",
              "178956     2\n",
              "32563      5\n",
              "Length: 37598, dtype: int8"
            ]
          },
          "metadata": {
            "tags": []
          },
          "execution_count": 24
        }
      ]
    },
    {
      "cell_type": "code",
      "metadata": {
        "colab": {
          "base_uri": "https://localhost:8080/"
        },
        "id": "hazardous-radio",
        "outputId": "78b0fad6-a565-4d6b-ac93-ee75e8984d17"
      },
      "source": [
        "len(set(lyrics_labels))"
      ],
      "id": "hazardous-radio",
      "execution_count": null,
      "outputs": [
        {
          "output_type": "execute_result",
          "data": {
            "text/plain": [
              "11"
            ]
          },
          "metadata": {
            "tags": []
          },
          "execution_count": 25
        }
      ]
    },
    {
      "cell_type": "code",
      "metadata": {
        "id": "concerned-birmingham"
      },
      "source": [
        "lyrics_ds = tf.data.Dataset.from_tensor_slices((lyrics_features, lyrics_labels))"
      ],
      "id": "concerned-birmingham",
      "execution_count": null,
      "outputs": []
    },
    {
      "cell_type": "code",
      "metadata": {
        "id": "convenient-setup"
      },
      "source": [
        "BUFFER_SIZE = 38000\n",
        "BATCH_SIZE = 64\n",
        "VALIDATION_SIZE = 3000"
      ],
      "id": "convenient-setup",
      "execution_count": null,
      "outputs": []
    },
    {
      "cell_type": "code",
      "metadata": {
        "colab": {
          "base_uri": "https://localhost:8080/"
        },
        "id": "circular-colorado",
        "outputId": "d4237b7e-bafa-40b8-eacc-4845533e52e4"
      },
      "source": [
        "all_labeled_data = lyrics_ds.shuffle(\n",
        "    BUFFER_SIZE, reshuffle_each_iteration=False)\n",
        "\n",
        "for text, label in all_labeled_data.take(10):\n",
        "  print(\"Line: \", text.numpy())\n",
        "  print(\"Artist:\", label.numpy())"
      ],
      "id": "circular-colorado",
      "execution_count": null,
      "outputs": [
        {
          "output_type": "stream",
          "text": [
            "Line:  b\"'Cause I know niggas is hard-headed but I ain't got the patience\"\n",
            "Artist: 1\n",
            "Line:  b'So go write whatever blog, messiness is not ever the God'\n",
            "Artist: 7\n",
            "Line:  b'Dug that stank bitch back out and then played her'\n",
            "Artist: 6\n",
            "Line:  b'Yo watch my neck just twist'\n",
            "Artist: 3\n",
            "Line:  b'It all makes sense when I look into her eyes, oh, no'\n",
            "Artist: 3\n",
            "Line:  b\"Think about it now, that's damn near 1.5\"\n",
            "Artist: 10\n",
            "Line:  b'I blow hash smoke through my nasal'\n",
            "Artist: 8\n",
            "Line:  b\"Bad Boy bitin' Nas album cover, wait\"\n",
            "Artist: 7\n",
            "Line:  b'In a fat-ass crib with thousands of kids'\n",
            "Artist: 6\n",
            "Line:  b'You bound to get fucked you trick ass snitch'\n",
            "Artist: 9\n"
          ],
          "name": "stdout"
        }
      ]
    },
    {
      "cell_type": "code",
      "metadata": {
        "id": "dried-score"
      },
      "source": [
        "AUTOTUNE = tf.data.AUTOTUNE\n",
        "\n",
        "def configure_dataset(dataset):\n",
        "  return dataset.cache().prefetch(buffer_size=AUTOTUNE)"
      ],
      "id": "dried-score",
      "execution_count": null,
      "outputs": []
    },
    {
      "cell_type": "markdown",
      "metadata": {
        "id": "stopped-wheel"
      },
      "source": [
        "### RNN CLASSIFIER"
      ],
      "id": "stopped-wheel"
    },
    {
      "cell_type": "code",
      "metadata": {
        "id": "antique-gilbert"
      },
      "source": [
        "import matplotlib.pyplot as plt\n",
        "\n",
        "\n",
        "def plot_graphs(history, metric):\n",
        "  plt.plot(history.history[metric])\n",
        "  plt.plot(history.history['val_'+metric], '')\n",
        "  plt.xlabel(\"Epochs\")\n",
        "  plt.ylabel(metric)\n",
        "  plt.legend([metric, 'val_'+metric])"
      ],
      "id": "antique-gilbert",
      "execution_count": null,
      "outputs": []
    },
    {
      "cell_type": "code",
      "metadata": {
        "id": "received-invasion"
      },
      "source": [
        "VOCAB_SIZE = 8000"
      ],
      "id": "received-invasion",
      "execution_count": null,
      "outputs": []
    },
    {
      "cell_type": "code",
      "metadata": {
        "id": "rental-footage"
      },
      "source": [
        "train_dataset = all_labeled_data.skip(VALIDATION_SIZE).shuffle(BUFFER_SIZE)\n",
        "test_dataset = all_labeled_data.take(VALIDATION_SIZE)"
      ],
      "id": "rental-footage",
      "execution_count": null,
      "outputs": []
    },
    {
      "cell_type": "code",
      "metadata": {
        "id": "spoken-handy"
      },
      "source": [
        "train_dataset = train_dataset.shuffle(BUFFER_SIZE).batch(BATCH_SIZE).prefetch(tf.data.AUTOTUNE)\n",
        "test_dataset = test_dataset.batch(BATCH_SIZE).prefetch(tf.data.AUTOTUNE)"
      ],
      "id": "spoken-handy",
      "execution_count": null,
      "outputs": []
    },
    {
      "cell_type": "code",
      "metadata": {
        "colab": {
          "base_uri": "https://localhost:8080/"
        },
        "id": "consistent-share",
        "outputId": "00fcdeaa-57f7-4c12-e84c-73941b314637"
      },
      "source": [
        "for example, label in train_dataset.take(1):\n",
        "  print('texts: ', example.numpy()[:3])\n",
        "  print('lebal: ', label.numpy()[:3])"
      ],
      "id": "consistent-share",
      "execution_count": null,
      "outputs": [
        {
          "output_type": "stream",
          "text": [
            "texts:  [b\"Don't know love, can't show love\"\n",
            " b\"In a '61 Chevy, still heavy in this game\"\n",
            " b'I got these corny wannabe diss song kings on the radio']\n",
            "lebal:  [1 0 7]\n"
          ],
          "name": "stdout"
        }
      ]
    },
    {
      "cell_type": "code",
      "metadata": {
        "id": "higher-skiing"
      },
      "source": [
        "encoder = tf.keras.layers.experimental.preprocessing.TextVectorization(\n",
        "    max_tokens=VOCAB_SIZE)\n",
        "encoder.adapt(train_dataset.map(lambda text, label: text))"
      ],
      "id": "higher-skiing",
      "execution_count": null,
      "outputs": []
    },
    {
      "cell_type": "code",
      "metadata": {
        "colab": {
          "base_uri": "https://localhost:8080/"
        },
        "id": "incorporate-suffering",
        "outputId": "bd3a5f25-c7d1-4c71-89c4-8ba2f79d8161"
      },
      "source": [
        "vocab = np.array(encoder.get_vocabulary())\n",
        "vocab[:20]\n"
      ],
      "id": "incorporate-suffering",
      "execution_count": null,
      "outputs": [
        {
          "output_type": "execute_result",
          "data": {
            "text/plain": [
              "array(['', '[UNK]', 'the', 'i', 'a', 'to', 'and', 'you', 'my', 'in', 'it',\n",
              "       'me', 'im', 'on', 'of', 'with', 'that', 'like', 'your', 'up'],\n",
              "      dtype='<U20')"
            ]
          },
          "metadata": {
            "tags": []
          },
          "execution_count": 36
        }
      ]
    },
    {
      "cell_type": "code",
      "metadata": {
        "colab": {
          "base_uri": "https://localhost:8080/"
        },
        "id": "welsh-personal",
        "outputId": "0be05377-67e2-4f0e-ce5e-1ea5a8082c13"
      },
      "source": [
        "encoded_example = encoder(example)[:10].numpy()\n",
        "encoded_example"
      ],
      "id": "welsh-personal",
      "execution_count": null,
      "outputs": [
        {
          "output_type": "execute_result",
          "data": {
            "text/plain": [
              "array([[  30,   46,   95,   75,  169,   95,    0,    0,    0,    0,    0,\n",
              "           0,    0,    0,    0],\n",
              "       [   9,    4, 7059, 3895,   84,  840,    9,   25,  134,    0,    0,\n",
              "           0,    0,    0,    0],\n",
              "       [   3,   28,   77, 3868, 3990, 1172,  493, 1658,   13,    2, 1064,\n",
              "           0,    0,    0,    0],\n",
              "       [2310,    5,   63,    4,  200, 1058,  869,    0,    0,    0,    0,\n",
              "           0,    0,    0,    0],\n",
              "       [   4,  591,  734, 1055,    2,  174,   15,    8, 1436,    0,    0,\n",
              "           0,    0,    0,    0],\n",
              "       [ 113,    7,   46, 2441,    1,    0,    0,    0,    0,    0,    0,\n",
              "           0,    0,    0,    0],\n",
              "       [  12, 2110, 1674,    8, 3112,   20, 6386,    0,    0,    0,    0,\n",
              "           0,    0,    0,    0],\n",
              "       [   6,    9,    8,  728,    3,  192,  242,  622,    0,    0,    0,\n",
              "           0,    0,    0,    0],\n",
              "       [   6,  223,    4, 6529,   13, 2343,   22, 3228,    0,    0,    0,\n",
              "           0,    0,    0,    0],\n",
              "       [ 540, 4222,   22, 1403,    6, 2769, 1509,    0,    0,    0,    0,\n",
              "           0,    0,    0,    0]])"
            ]
          },
          "metadata": {
            "tags": []
          },
          "execution_count": 42
        }
      ]
    },
    {
      "cell_type": "code",
      "metadata": {
        "id": "keeXx_9X0UAP",
        "colab": {
          "base_uri": "https://localhost:8080/"
        },
        "outputId": "ac918560-7cc1-4ed6-aecb-cb4293315d29"
      },
      "source": [
        "for n in range(10):\n",
        "  print(\"Original: \", example[n].numpy())\n",
        "  print(\"Round-trip: \", \" \".join(vocab[encoded_example[n]]))\n",
        "  print()"
      ],
      "id": "keeXx_9X0UAP",
      "execution_count": null,
      "outputs": [
        {
          "output_type": "stream",
          "text": [
            "Original:  b\"Don't know love, can't show love\"\n",
            "Round-trip:  dont know love cant show love         \n",
            "\n",
            "Original:  b\"In a '61 Chevy, still heavy in this game\"\n",
            "Round-trip:  in a 61 chevy still heavy in this game      \n",
            "\n",
            "Original:  b'I got these corny wannabe diss song kings on the radio'\n",
            "Round-trip:  i got these corny wannabe diss song kings on the radio    \n",
            "\n",
            "Original:  b'*sniff* to make a long story short'\n",
            "Round-trip:  sniff to make a long story short        \n",
            "\n",
            "Original:  b'A buck 50 across the face with my razor'\n",
            "Round-trip:  a buck 50 across the face with my razor      \n",
            "\n",
            "Original:  b'Yeah, you know what\\xe2\\x80\\x99s happenin\\xe2\\x80\\x99'\n",
            "Round-trip:  yeah you know what’s [UNK]          \n",
            "\n",
            "Original:  b\"I'm dropping flavor, my behavior is hereditary\"\n",
            "Round-trip:  im dropping flavor my behavior is hereditary        \n",
            "\n",
            "Original:  b\"And in my dreams I hear motherfuckers screamin'\"\n",
            "Round-trip:  and in my dreams i hear motherfuckers screamin       \n",
            "\n",
            "Original:  b\"(And he's a felon) On parole for robbery\"\n",
            "Round-trip:  and hes a felon on parole for robbery       \n",
            "\n",
            "Original:  b'Glock nineteen for casket and flower moves'\n",
            "Round-trip:  glock nineteen for casket and flower moves        \n",
            "\n"
          ],
          "name": "stdout"
        }
      ]
    },
    {
      "cell_type": "code",
      "metadata": {
        "id": "VkBdkkzY0oof"
      },
      "source": [
        "model = tf.keras.Sequential([\n",
        "    encoder,\n",
        "    tf.keras.layers.Embedding(\n",
        "        input_dim=len(encoder.get_vocabulary()),\n",
        "        output_dim=64,\n",
        "        # Use masking to handle the variable sequence lengths\n",
        "        mask_zero=True),\n",
        "    tf.keras.layers.Bidirectional(tf.keras.layers.LSTM(64)),\n",
        "    tf.keras.layers.Dense(64, activation='relu'),\n",
        "    tf.keras.layers.Dense(11)\n",
        "])\n"
      ],
      "id": "VkBdkkzY0oof",
      "execution_count": null,
      "outputs": []
    },
    {
      "cell_type": "code",
      "metadata": {
        "id": "iPzGqEpL0vZB",
        "colab": {
          "base_uri": "https://localhost:8080/"
        },
        "outputId": "bda6dddf-41fa-4b43-9b08-42b30d1c0c4a"
      },
      "source": [
        "print([layer.supports_masking for layer in model.layers])"
      ],
      "id": "iPzGqEpL0vZB",
      "execution_count": null,
      "outputs": [
        {
          "output_type": "stream",
          "text": [
            "[False, True, True, True, True]\n"
          ],
          "name": "stdout"
        }
      ]
    },
    {
      "cell_type": "code",
      "metadata": {
        "id": "KCvVbiWB01Mc",
        "colab": {
          "base_uri": "https://localhost:8080/"
        },
        "outputId": "f088f5e0-df10-435c-cded-b163d5314b7c"
      },
      "source": [
        "sample_text = ('The movie was cool. The animation and the graphics '\n",
        "               'were out of this world. I would recommend this movie.')\n",
        "predictions = model.predict(np.array([sample_text]))\n",
        "print(predictions[0])"
      ],
      "id": "KCvVbiWB01Mc",
      "execution_count": null,
      "outputs": [
        {
          "output_type": "stream",
          "text": [
            "[0.00051638]\n"
          ],
          "name": "stdout"
        }
      ]
    },
    {
      "cell_type": "code",
      "metadata": {
        "id": "o6PS2Mrb078h",
        "colab": {
          "base_uri": "https://localhost:8080/"
        },
        "outputId": "008716c9-5264-4079-bb41-309ad3101027"
      },
      "source": [
        "padding = \"the \" * 2000\n",
        "predictions = model.predict(np.array([sample_text, padding]))\n",
        "print(predictions[0])"
      ],
      "id": "o6PS2Mrb078h",
      "execution_count": null,
      "outputs": [
        {
          "output_type": "stream",
          "text": [
            "[0.00051639]\n"
          ],
          "name": "stdout"
        }
      ]
    },
    {
      "cell_type": "code",
      "metadata": {
        "id": "vVaRT2Ac1AOd"
      },
      "source": [
        "model.compile(loss=tf.keras.losses.SparseCategoricalCrossentropy(from_logits=True),\n",
        "              optimizer=tf.keras.optimizers.Adam(1e-4),\n",
        "              metrics=['accuracy'])"
      ],
      "id": "vVaRT2Ac1AOd",
      "execution_count": null,
      "outputs": []
    },
    {
      "cell_type": "code",
      "metadata": {
        "id": "LV1fSGuW1K1z",
        "colab": {
          "base_uri": "https://localhost:8080/"
        },
        "outputId": "c0b2be0a-24b7-4f38-9502-f8138c2101f5"
      },
      "source": [
        "history = model.fit(train_dataset, epochs=30,\n",
        "                    validation_data=test_dataset,\n",
        "                    validation_steps=30)"
      ],
      "id": "LV1fSGuW1K1z",
      "execution_count": null,
      "outputs": [
        {
          "output_type": "stream",
          "text": [
            "Epoch 1/30\n",
            "541/541 [==============================] - 13s 24ms/step - loss: 1.5340 - accuracy: 0.4861 - val_loss: 2.1176 - val_accuracy: 0.3234\n",
            "Epoch 2/30\n",
            "541/541 [==============================] - 13s 24ms/step - loss: 1.4979 - accuracy: 0.4987 - val_loss: 2.1432 - val_accuracy: 0.3260\n",
            "Epoch 3/30\n",
            "541/541 [==============================] - 13s 24ms/step - loss: 1.4662 - accuracy: 0.5121 - val_loss: 2.1553 - val_accuracy: 0.3286\n",
            "Epoch 4/30\n",
            "541/541 [==============================] - 13s 24ms/step - loss: 1.4348 - accuracy: 0.5249 - val_loss: 2.1762 - val_accuracy: 0.3276\n",
            "Epoch 5/30\n",
            "541/541 [==============================] - 13s 24ms/step - loss: 1.4053 - accuracy: 0.5351 - val_loss: 2.2183 - val_accuracy: 0.3302\n",
            "Epoch 6/30\n",
            "541/541 [==============================] - 13s 24ms/step - loss: 1.3748 - accuracy: 0.5476 - val_loss: 2.2093 - val_accuracy: 0.3302\n",
            "Epoch 7/30\n",
            "541/541 [==============================] - 13s 24ms/step - loss: 1.3460 - accuracy: 0.5597 - val_loss: 2.2333 - val_accuracy: 0.3365\n",
            "Epoch 8/30\n",
            "541/541 [==============================] - 13s 24ms/step - loss: 1.3168 - accuracy: 0.5680 - val_loss: 2.2702 - val_accuracy: 0.3375\n",
            "Epoch 9/30\n",
            "541/541 [==============================] - 13s 24ms/step - loss: 1.2884 - accuracy: 0.5807 - val_loss: 2.3027 - val_accuracy: 0.3380\n",
            "Epoch 10/30\n",
            "541/541 [==============================] - 13s 24ms/step - loss: 1.2617 - accuracy: 0.5897 - val_loss: 2.3536 - val_accuracy: 0.3344\n",
            "Epoch 11/30\n",
            "541/541 [==============================] - 13s 24ms/step - loss: 1.2323 - accuracy: 0.5989 - val_loss: 2.3833 - val_accuracy: 0.3328\n",
            "Epoch 12/30\n",
            "541/541 [==============================] - 13s 24ms/step - loss: 1.2069 - accuracy: 0.6082 - val_loss: 2.3914 - val_accuracy: 0.3292\n",
            "Epoch 13/30\n",
            "541/541 [==============================] - 13s 24ms/step - loss: 1.1800 - accuracy: 0.6181 - val_loss: 2.4583 - val_accuracy: 0.3328\n",
            "Epoch 14/30\n",
            "541/541 [==============================] - 13s 24ms/step - loss: 1.1553 - accuracy: 0.6279 - val_loss: 2.4751 - val_accuracy: 0.3323\n",
            "Epoch 15/30\n",
            "541/541 [==============================] - 13s 24ms/step - loss: 1.1324 - accuracy: 0.6352 - val_loss: 2.5172 - val_accuracy: 0.3313\n",
            "Epoch 16/30\n",
            "541/541 [==============================] - 13s 24ms/step - loss: 1.1100 - accuracy: 0.6428 - val_loss: 2.5582 - val_accuracy: 0.3302\n",
            "Epoch 17/30\n",
            "541/541 [==============================] - 13s 24ms/step - loss: 1.0888 - accuracy: 0.6512 - val_loss: 2.6187 - val_accuracy: 0.3380\n",
            "Epoch 18/30\n",
            "541/541 [==============================] - 13s 24ms/step - loss: 1.0646 - accuracy: 0.6604 - val_loss: 2.6480 - val_accuracy: 0.3344\n",
            "Epoch 19/30\n",
            "541/541 [==============================] - 13s 24ms/step - loss: 1.0458 - accuracy: 0.6649 - val_loss: 2.6855 - val_accuracy: 0.3313\n",
            "Epoch 20/30\n",
            "541/541 [==============================] - 13s 24ms/step - loss: 1.0253 - accuracy: 0.6728 - val_loss: 2.7434 - val_accuracy: 0.3344\n",
            "Epoch 21/30\n",
            "541/541 [==============================] - 13s 24ms/step - loss: 1.0067 - accuracy: 0.6789 - val_loss: 2.7924 - val_accuracy: 0.3323\n",
            "Epoch 22/30\n",
            "541/541 [==============================] - 13s 24ms/step - loss: 0.9877 - accuracy: 0.6855 - val_loss: 2.8513 - val_accuracy: 0.3328\n",
            "Epoch 23/30\n",
            "541/541 [==============================] - 13s 24ms/step - loss: 0.9686 - accuracy: 0.6926 - val_loss: 2.8680 - val_accuracy: 0.3344\n",
            "Epoch 24/30\n",
            "541/541 [==============================] - 13s 24ms/step - loss: 0.9514 - accuracy: 0.6987 - val_loss: 2.9181 - val_accuracy: 0.3333\n",
            "Epoch 25/30\n",
            "541/541 [==============================] - 13s 24ms/step - loss: 0.9343 - accuracy: 0.7038 - val_loss: 3.0077 - val_accuracy: 0.3307\n",
            "Epoch 26/30\n",
            "541/541 [==============================] - 13s 24ms/step - loss: 0.9177 - accuracy: 0.7102 - val_loss: 3.0603 - val_accuracy: 0.3313\n",
            "Epoch 27/30\n",
            "541/541 [==============================] - 13s 24ms/step - loss: 0.9011 - accuracy: 0.7156 - val_loss: 3.0758 - val_accuracy: 0.3281\n",
            "Epoch 28/30\n",
            "541/541 [==============================] - 13s 24ms/step - loss: 0.8839 - accuracy: 0.7226 - val_loss: 3.1338 - val_accuracy: 0.3307\n",
            "Epoch 29/30\n",
            "541/541 [==============================] - 13s 24ms/step - loss: 0.8672 - accuracy: 0.7283 - val_loss: 3.2076 - val_accuracy: 0.3234\n",
            "Epoch 30/30\n",
            "541/541 [==============================] - 13s 24ms/step - loss: 0.8559 - accuracy: 0.7322 - val_loss: 3.2287 - val_accuracy: 0.3255\n"
          ],
          "name": "stdout"
        }
      ]
    },
    {
      "cell_type": "code",
      "metadata": {
        "id": "6TaPEujO3eXq",
        "colab": {
          "base_uri": "https://localhost:8080/"
        },
        "outputId": "29bc2b8a-4b27-4845-a10c-8fde024fb237"
      },
      "source": [
        "test_loss, test_acc = model.evaluate(test_dataset)\n",
        "\n",
        "print('Test Loss:', test_loss)\n",
        "print('Test Accuracy:', test_acc)"
      ],
      "id": "6TaPEujO3eXq",
      "execution_count": null,
      "outputs": [
        {
          "output_type": "stream",
          "text": [
            "47/47 [==============================] - 0s 7ms/step - loss: 3.2246 - accuracy: 0.3333\n",
            "Test Loss: 3.2245752811431885\n",
            "Test Accuracy: 0.3333333432674408\n"
          ],
          "name": "stdout"
        }
      ]
    },
    {
      "cell_type": "code",
      "metadata": {
        "id": "YmSlv9D83g0W",
        "colab": {
          "base_uri": "https://localhost:8080/",
          "height": 518
        },
        "outputId": "0225ab32-d2d4-43f1-dcd4-4d59b19ca8e0"
      },
      "source": [
        "plt.figure(figsize=(16, 8))\n",
        "plt.subplot(1, 2, 1)\n",
        "plot_graphs(history, 'accuracy')\n",
        "plt.ylim(None, 1)\n",
        "plt.subplot(1, 2, 2)\n",
        "plot_graphs(history, 'loss')\n",
        "plt.ylim(0, None)"
      ],
      "id": "YmSlv9D83g0W",
      "execution_count": null,
      "outputs": [
        {
          "output_type": "execute_result",
          "data": {
            "text/plain": [
              "(0.0, 3.347296339273453)"
            ]
          },
          "metadata": {
            "tags": []
          },
          "execution_count": 55
        },
        {
          "output_type": "display_data",
          "data": {
            "image/png": "[encoded data removed]",
            "text/plain": [
              "<Figure size 1152x576 with 2 Axes>"
            ]
          },
          "metadata": {
            "tags": [],
            "needs_background": "light"
          }
        }
      ]
    },
    {
      "cell_type": "code",
      "metadata": {
        "id": "BqCaMXvl3tal"
      },
      "source": [
        "model = tf.keras.Sequential([\n",
        "    encoder,\n",
        "    tf.keras.layers.Embedding(len(encoder.get_vocabulary()), 64, mask_zero=True),\n",
        "    tf.keras.layers.Bidirectional(tf.keras.layers.LSTM(64,  return_sequences=True)),\n",
        "    tf.keras.layers.Bidirectional(tf.keras.layers.LSTM(32)),\n",
        "    tf.keras.layers.Dense(64, activation='relu'),\n",
        "    tf.keras.layers.Dropout(0.5),\n",
        "    tf.keras.layers.Dense(11)\n",
        "])\n"
      ],
      "id": "BqCaMXvl3tal",
      "execution_count": null,
      "outputs": []
    },
    {
      "cell_type": "code",
      "metadata": {
        "id": "eDuu92II3zBS"
      },
      "source": [
        "model.compile(loss=tf.keras.losses.SparseCategoricalCrossentropy(from_logits=True),\n",
        "              optimizer=tf.keras.optimizers.Adam(1e-4),\n",
        "              metrics=['accuracy'])"
      ],
      "id": "eDuu92II3zBS",
      "execution_count": null,
      "outputs": []
    },
    {
      "cell_type": "code",
      "metadata": {
        "id": "BKSV1OsU35Lh",
        "colab": {
          "base_uri": "https://localhost:8080/"
        },
        "outputId": "dbff9f4d-481f-4343-da88-ecd795469f9f"
      },
      "source": [
        "history = model.fit(train_dataset, epochs=30,\n",
        "                    validation_data=test_dataset,\n",
        "                    validation_steps=10)"
      ],
      "id": "BKSV1OsU35Lh",
      "execution_count": null,
      "outputs": [
        {
          "output_type": "stream",
          "text": [
            "Epoch 1/30\n",
            "541/541 [==============================] - 25s 46ms/step - loss: 2.2907 - accuracy: 0.2231 - val_loss: 2.2294 - val_accuracy: 0.2484\n",
            "Epoch 2/30\n",
            "541/541 [==============================] - 21s 39ms/step - loss: 2.2142 - accuracy: 0.2443 - val_loss: 2.1762 - val_accuracy: 0.2688\n",
            "Epoch 3/30\n",
            "541/541 [==============================] - 21s 39ms/step - loss: 2.1486 - accuracy: 0.2621 - val_loss: 2.1421 - val_accuracy: 0.2781\n",
            "Epoch 4/30\n",
            "541/541 [==============================] - 22s 40ms/step - loss: 2.0799 - accuracy: 0.2858 - val_loss: 2.1174 - val_accuracy: 0.2719\n",
            "Epoch 5/30\n",
            "541/541 [==============================] - 22s 40ms/step - loss: 2.0179 - accuracy: 0.3074 - val_loss: 2.0928 - val_accuracy: 0.2734\n",
            "Epoch 6/30\n",
            "541/541 [==============================] - 21s 40ms/step - loss: 1.9555 - accuracy: 0.3244 - val_loss: 2.0705 - val_accuracy: 0.2797\n",
            "Epoch 7/30\n",
            "541/541 [==============================] - 22s 40ms/step - loss: 1.8945 - accuracy: 0.3433 - val_loss: 2.0798 - val_accuracy: 0.2828\n",
            "Epoch 8/30\n",
            "541/541 [==============================] - 21s 39ms/step - loss: 1.8516 - accuracy: 0.3546 - val_loss: 2.0803 - val_accuracy: 0.2844\n",
            "Epoch 9/30\n",
            "541/541 [==============================] - 21s 39ms/step - loss: 1.8110 - accuracy: 0.3730 - val_loss: 2.0889 - val_accuracy: 0.2984\n",
            "Epoch 10/30\n",
            "541/541 [==============================] - 21s 39ms/step - loss: 1.7713 - accuracy: 0.3816 - val_loss: 2.1022 - val_accuracy: 0.3016\n",
            "Epoch 11/30\n",
            "541/541 [==============================] - 21s 40ms/step - loss: 1.7325 - accuracy: 0.4011 - val_loss: 2.1041 - val_accuracy: 0.3031\n",
            "Epoch 12/30\n",
            "541/541 [==============================] - 21s 40ms/step - loss: 1.6908 - accuracy: 0.4167 - val_loss: 2.1070 - val_accuracy: 0.3047\n",
            "Epoch 13/30\n",
            "541/541 [==============================] - 21s 39ms/step - loss: 1.6491 - accuracy: 0.4363 - val_loss: 2.1284 - val_accuracy: 0.3187\n",
            "Epoch 14/30\n",
            "541/541 [==============================] - 21s 39ms/step - loss: 1.6033 - accuracy: 0.4490 - val_loss: 2.1368 - val_accuracy: 0.3219\n",
            "Epoch 15/30\n",
            "541/541 [==============================] - 21s 39ms/step - loss: 1.5637 - accuracy: 0.4639 - val_loss: 2.1508 - val_accuracy: 0.3250\n",
            "Epoch 16/30\n",
            "541/541 [==============================] - 22s 40ms/step - loss: 1.5213 - accuracy: 0.4783 - val_loss: 2.2250 - val_accuracy: 0.3234\n",
            "Epoch 17/30\n",
            "541/541 [==============================] - 21s 39ms/step - loss: 1.4862 - accuracy: 0.4917 - val_loss: 2.2164 - val_accuracy: 0.3219\n",
            "Epoch 18/30\n",
            "541/541 [==============================] - 22s 40ms/step - loss: 1.4585 - accuracy: 0.4995 - val_loss: 2.2526 - val_accuracy: 0.3203\n",
            "Epoch 19/30\n",
            "541/541 [==============================] - 22s 40ms/step - loss: 1.4211 - accuracy: 0.5127 - val_loss: 2.2892 - val_accuracy: 0.3094\n",
            "Epoch 20/30\n",
            "541/541 [==============================] - 21s 40ms/step - loss: 1.3884 - accuracy: 0.5218 - val_loss: 2.3158 - val_accuracy: 0.3219\n",
            "Epoch 21/30\n",
            "541/541 [==============================] - 22s 40ms/step - loss: 1.3616 - accuracy: 0.5328 - val_loss: 2.3899 - val_accuracy: 0.3156\n",
            "Epoch 22/30\n",
            "541/541 [==============================] - 22s 40ms/step - loss: 1.3392 - accuracy: 0.5433 - val_loss: 2.4091 - val_accuracy: 0.3219\n",
            "Epoch 23/30\n",
            "541/541 [==============================] - 21s 39ms/step - loss: 1.3125 - accuracy: 0.5486 - val_loss: 2.4409 - val_accuracy: 0.3187\n",
            "Epoch 24/30\n",
            "541/541 [==============================] - 22s 40ms/step - loss: 1.2933 - accuracy: 0.5575 - val_loss: 2.5258 - val_accuracy: 0.3391\n",
            "Epoch 25/30\n",
            "541/541 [==============================] - 22s 40ms/step - loss: 1.2654 - accuracy: 0.5665 - val_loss: 2.5064 - val_accuracy: 0.3313\n",
            "Epoch 26/30\n",
            "541/541 [==============================] - 22s 40ms/step - loss: 1.2447 - accuracy: 0.5741 - val_loss: 2.5766 - val_accuracy: 0.3359\n",
            "Epoch 27/30\n",
            "541/541 [==============================] - 21s 40ms/step - loss: 1.2266 - accuracy: 0.5802 - val_loss: 2.5988 - val_accuracy: 0.3344\n",
            "Epoch 28/30\n",
            "541/541 [==============================] - 21s 39ms/step - loss: 1.2044 - accuracy: 0.5857 - val_loss: 2.6401 - val_accuracy: 0.3313\n",
            "Epoch 29/30\n",
            "541/541 [==============================] - 21s 40ms/step - loss: 1.1879 - accuracy: 0.5921 - val_loss: 2.7043 - val_accuracy: 0.3328\n",
            "Epoch 30/30\n",
            "541/541 [==============================] - 22s 40ms/step - loss: 1.1671 - accuracy: 0.6025 - val_loss: 2.7550 - val_accuracy: 0.3219\n"
          ],
          "name": "stdout"
        }
      ]
    },
    {
      "cell_type": "code",
      "metadata": {
        "id": "7TsGpPt-7ZCV",
        "colab": {
          "base_uri": "https://localhost:8080/"
        },
        "outputId": "c0eedc49-2273-4f7a-bbcb-aea5927cb25c"
      },
      "source": [
        "test_loss, test_acc = model.evaluate(test_dataset)\n",
        "\n",
        "print('Test Loss:', test_loss)\n",
        "print('Test Accuracy:', test_acc)"
      ],
      "id": "7TsGpPt-7ZCV",
      "execution_count": null,
      "outputs": [
        {
          "output_type": "stream",
          "text": [
            "47/47 [==============================] - 1s 11ms/step - loss: 2.8640 - accuracy: 0.3200\n",
            "Test Loss: 2.8639514446258545\n",
            "Test Accuracy: 0.3199999928474426\n"
          ],
          "name": "stdout"
        }
      ]
    },
    {
      "cell_type": "code",
      "metadata": {
        "id": "_EgNPX_f7dZ8",
        "colab": {
          "base_uri": "https://localhost:8080/"
        },
        "outputId": "fffe27f7-836e-48e6-a0ca-97a3c4583477"
      },
      "source": [
        "sample_text = ('So if I said I never did drugs, that would mean I lie and get fucked more than the President does')\n",
        "predictions = model.predict(np.array([sample_text]))\n",
        "print(predictions)"
      ],
      "id": "_EgNPX_f7dZ8",
      "execution_count": null,
      "outputs": [
        {
          "output_type": "stream",
          "text": [
            "[[-3.4415479  -0.28796932 -0.5231788   4.2337065  -2.0657156  -1.6915143\n",
            "  -1.562889   -2.0644145  -2.065338   -0.9423143  -2.6981914 ]]\n"
          ],
          "name": "stdout"
        }
      ]
    },
    {
      "cell_type": "code",
      "metadata": {
        "id": "sjb7xdik8EL6",
        "colab": {
          "base_uri": "https://localhost:8080/"
        },
        "outputId": "213c7171-6806-48bd-a7c8-8f331b07ae76"
      },
      "source": [
        "sample_text = (\"Big Poppa smash fools, bash fools\")\n",
        "predictions = model.predict(np.array([sample_text]))\n",
        "print(predictions)"
      ],
      "id": "sjb7xdik8EL6",
      "execution_count": null,
      "outputs": [
        {
          "output_type": "stream",
          "text": [
            "[[ 0.16037017 -0.3657387  -0.5233064  -1.8952279  -2.8392837   0.81070495\n",
            "   0.44565812 -0.1835935  -2.6383808   0.39324844  2.5171375 ]]\n"
          ],
          "name": "stdout"
        }
      ]
    }
  ]
}