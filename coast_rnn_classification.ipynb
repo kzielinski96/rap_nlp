{
  "nbformat": 4,
  "nbformat_minor": 5,
  "metadata": {
    "kernelspec": {
      "display_name": "Python 3",
      "language": "python",
      "name": "python3"
    },
    "language_info": {
      "codemirror_mode": {
        "name": "ipython",
        "version": 3
      },
      "file_extension": ".py",
      "mimetype": "text/x-python",
      "name": "python",
      "nbconvert_exporter": "python",
      "pygments_lexer": "ipython3",
      "version": "3.8.3"
    },
    "colab": {
      "name": "coast_rnn_classification.ipynb",
      "provenance": [],
      "collapsed_sections": [],
      "toc_visible": true
    },
    "accelerator": "GPU"
  },
  "cells": [
    {
      "cell_type": "markdown",
      "metadata": {
        "id": "urban-wound"
      },
      "source": [
        "## LOAD DATA"
      ],
      "id": "urban-wound"
    },
    {
      "cell_type": "code",
      "metadata": {
        "colab": {
          "base_uri": "https://localhost:8080/"
        },
        "id": "3C5p-WQ_zJSs",
        "outputId": "fbdb70b1-3a7b-4ade-a4cb-f682a0071fbf"
      },
      "source": [
        "!pip install tensorflow_text"
      ],
      "id": "3C5p-WQ_zJSs",
      "execution_count": 1,
      "outputs": [
        {
          "output_type": "stream",
          "text": [
            "Collecting tensorflow_text\n",
            "\u001b[?25l  Downloading https://files.pythonhosted.org/packages/b6/c0/c0fed4301f592c3b56638ae7292612c17d91a43891ba1aaf9636d535beae/tensorflow_text-2.4.3-cp37-cp37m-manylinux1_x86_64.whl (3.4MB)\n",
            "\u001b[K     |████████████████████████████████| 3.4MB 4.2MB/s \n",
            "\u001b[?25hRequirement already satisfied: tensorflow-hub>=0.8.0 in /usr/local/lib/python3.7/dist-packages (from tensorflow_text) (0.12.0)\n",
            "Requirement already satisfied: tensorflow<2.5,>=2.4.0 in /usr/local/lib/python3.7/dist-packages (from tensorflow_text) (2.4.1)\n",
            "Requirement already satisfied: numpy>=1.12.0 in /usr/local/lib/python3.7/dist-packages (from tensorflow-hub>=0.8.0->tensorflow_text) (1.19.5)\n",
            "Requirement already satisfied: protobuf>=3.8.0 in /usr/local/lib/python3.7/dist-packages (from tensorflow-hub>=0.8.0->tensorflow_text) (3.12.4)\n",
            "Requirement already satisfied: gast==0.3.3 in /usr/local/lib/python3.7/dist-packages (from tensorflow<2.5,>=2.4.0->tensorflow_text) (0.3.3)\n",
            "Requirement already satisfied: tensorboard~=2.4 in /usr/local/lib/python3.7/dist-packages (from tensorflow<2.5,>=2.4.0->tensorflow_text) (2.4.1)\n",
            "Requirement already satisfied: flatbuffers~=1.12.0 in /usr/local/lib/python3.7/dist-packages (from tensorflow<2.5,>=2.4.0->tensorflow_text) (1.12)\n",
            "Requirement already satisfied: grpcio~=1.32.0 in /usr/local/lib/python3.7/dist-packages (from tensorflow<2.5,>=2.4.0->tensorflow_text) (1.32.0)\n",
            "Requirement already satisfied: typing-extensions~=3.7.4 in /usr/local/lib/python3.7/dist-packages (from tensorflow<2.5,>=2.4.0->tensorflow_text) (3.7.4.3)\n",
            "Requirement already satisfied: termcolor~=1.1.0 in /usr/local/lib/python3.7/dist-packages (from tensorflow<2.5,>=2.4.0->tensorflow_text) (1.1.0)\n",
            "Requirement already satisfied: opt-einsum~=3.3.0 in /usr/local/lib/python3.7/dist-packages (from tensorflow<2.5,>=2.4.0->tensorflow_text) (3.3.0)\n",
            "Requirement already satisfied: keras-preprocessing~=1.1.2 in /usr/local/lib/python3.7/dist-packages (from tensorflow<2.5,>=2.4.0->tensorflow_text) (1.1.2)\n",
            "Requirement already satisfied: six~=1.15.0 in /usr/local/lib/python3.7/dist-packages (from tensorflow<2.5,>=2.4.0->tensorflow_text) (1.15.0)\n",
            "Requirement already satisfied: wheel~=0.35 in /usr/local/lib/python3.7/dist-packages (from tensorflow<2.5,>=2.4.0->tensorflow_text) (0.36.2)\n",
            "Requirement already satisfied: absl-py~=0.10 in /usr/local/lib/python3.7/dist-packages (from tensorflow<2.5,>=2.4.0->tensorflow_text) (0.12.0)\n",
            "Requirement already satisfied: tensorflow-estimator<2.5.0,>=2.4.0 in /usr/local/lib/python3.7/dist-packages (from tensorflow<2.5,>=2.4.0->tensorflow_text) (2.4.0)\n",
            "Requirement already satisfied: h5py~=2.10.0 in /usr/local/lib/python3.7/dist-packages (from tensorflow<2.5,>=2.4.0->tensorflow_text) (2.10.0)\n",
            "Requirement already satisfied: wrapt~=1.12.1 in /usr/local/lib/python3.7/dist-packages (from tensorflow<2.5,>=2.4.0->tensorflow_text) (1.12.1)\n",
            "Requirement already satisfied: google-pasta~=0.2 in /usr/local/lib/python3.7/dist-packages (from tensorflow<2.5,>=2.4.0->tensorflow_text) (0.2.0)\n",
            "Requirement already satisfied: astunparse~=1.6.3 in /usr/local/lib/python3.7/dist-packages (from tensorflow<2.5,>=2.4.0->tensorflow_text) (1.6.3)\n",
            "Requirement already satisfied: setuptools in /usr/local/lib/python3.7/dist-packages (from protobuf>=3.8.0->tensorflow-hub>=0.8.0->tensorflow_text) (56.1.0)\n",
            "Requirement already satisfied: tensorboard-plugin-wit>=1.6.0 in /usr/local/lib/python3.7/dist-packages (from tensorboard~=2.4->tensorflow<2.5,>=2.4.0->tensorflow_text) (1.8.0)\n",
            "Requirement already satisfied: requests<3,>=2.21.0 in /usr/local/lib/python3.7/dist-packages (from tensorboard~=2.4->tensorflow<2.5,>=2.4.0->tensorflow_text) (2.23.0)\n",
            "Requirement already satisfied: markdown>=2.6.8 in /usr/local/lib/python3.7/dist-packages (from tensorboard~=2.4->tensorflow<2.5,>=2.4.0->tensorflow_text) (3.3.4)\n",
            "Requirement already satisfied: google-auth<2,>=1.6.3 in /usr/local/lib/python3.7/dist-packages (from tensorboard~=2.4->tensorflow<2.5,>=2.4.0->tensorflow_text) (1.30.0)\n",
            "Requirement already satisfied: google-auth-oauthlib<0.5,>=0.4.1 in /usr/local/lib/python3.7/dist-packages (from tensorboard~=2.4->tensorflow<2.5,>=2.4.0->tensorflow_text) (0.4.4)\n",
            "Requirement already satisfied: werkzeug>=0.11.15 in /usr/local/lib/python3.7/dist-packages (from tensorboard~=2.4->tensorflow<2.5,>=2.4.0->tensorflow_text) (2.0.0)\n",
            "Requirement already satisfied: certifi>=2017.4.17 in /usr/local/lib/python3.7/dist-packages (from requests<3,>=2.21.0->tensorboard~=2.4->tensorflow<2.5,>=2.4.0->tensorflow_text) (2020.12.5)\n",
            "Requirement already satisfied: chardet<4,>=3.0.2 in /usr/local/lib/python3.7/dist-packages (from requests<3,>=2.21.0->tensorboard~=2.4->tensorflow<2.5,>=2.4.0->tensorflow_text) (3.0.4)\n",
            "Requirement already satisfied: urllib3!=1.25.0,!=1.25.1,<1.26,>=1.21.1 in /usr/local/lib/python3.7/dist-packages (from requests<3,>=2.21.0->tensorboard~=2.4->tensorflow<2.5,>=2.4.0->tensorflow_text) (1.24.3)\n",
            "Requirement already satisfied: idna<3,>=2.5 in /usr/local/lib/python3.7/dist-packages (from requests<3,>=2.21.0->tensorboard~=2.4->tensorflow<2.5,>=2.4.0->tensorflow_text) (2.10)\n",
            "Requirement already satisfied: importlib-metadata; python_version < \"3.8\" in /usr/local/lib/python3.7/dist-packages (from markdown>=2.6.8->tensorboard~=2.4->tensorflow<2.5,>=2.4.0->tensorflow_text) (4.0.1)\n",
            "Requirement already satisfied: pyasn1-modules>=0.2.1 in /usr/local/lib/python3.7/dist-packages (from google-auth<2,>=1.6.3->tensorboard~=2.4->tensorflow<2.5,>=2.4.0->tensorflow_text) (0.2.8)\n",
            "Requirement already satisfied: rsa<5,>=3.1.4; python_version >= \"3.6\" in /usr/local/lib/python3.7/dist-packages (from google-auth<2,>=1.6.3->tensorboard~=2.4->tensorflow<2.5,>=2.4.0->tensorflow_text) (4.7.2)\n",
            "Requirement already satisfied: cachetools<5.0,>=2.0.0 in /usr/local/lib/python3.7/dist-packages (from google-auth<2,>=1.6.3->tensorboard~=2.4->tensorflow<2.5,>=2.4.0->tensorflow_text) (4.2.2)\n",
            "Requirement already satisfied: requests-oauthlib>=0.7.0 in /usr/local/lib/python3.7/dist-packages (from google-auth-oauthlib<0.5,>=0.4.1->tensorboard~=2.4->tensorflow<2.5,>=2.4.0->tensorflow_text) (1.3.0)\n",
            "Requirement already satisfied: zipp>=0.5 in /usr/local/lib/python3.7/dist-packages (from importlib-metadata; python_version < \"3.8\"->markdown>=2.6.8->tensorboard~=2.4->tensorflow<2.5,>=2.4.0->tensorflow_text) (3.4.1)\n",
            "Requirement already satisfied: pyasn1<0.5.0,>=0.4.6 in /usr/local/lib/python3.7/dist-packages (from pyasn1-modules>=0.2.1->google-auth<2,>=1.6.3->tensorboard~=2.4->tensorflow<2.5,>=2.4.0->tensorflow_text) (0.4.8)\n",
            "Requirement already satisfied: oauthlib>=3.0.0 in /usr/local/lib/python3.7/dist-packages (from requests-oauthlib>=0.7.0->google-auth-oauthlib<0.5,>=0.4.1->tensorboard~=2.4->tensorflow<2.5,>=2.4.0->tensorflow_text) (3.1.0)\n",
            "Installing collected packages: tensorflow-text\n",
            "Successfully installed tensorflow-text-2.4.3\n"
          ],
          "name": "stdout"
        }
      ]
    },
    {
      "cell_type": "code",
      "metadata": {
        "id": "R1UQrRoFzbZo",
        "colab": {
          "base_uri": "https://localhost:8080/"
        },
        "outputId": "dcf6ba44-bec2-4307-f9c7-8a1c1c54b669"
      },
      "source": [
        "from google.colab import drive\n",
        "drive.mount('/content/drive')"
      ],
      "id": "R1UQrRoFzbZo",
      "execution_count": 2,
      "outputs": [
        {
          "output_type": "stream",
          "text": [
            "Mounted at /content/drive\n"
          ],
          "name": "stdout"
        }
      ]
    },
    {
      "cell_type": "code",
      "metadata": {
        "id": "analyzed-proposal"
      },
      "source": [
        "import collections\n",
        "import pathlib\n",
        "import re\n",
        "import string\n",
        "\n",
        "import tensorflow as tf\n",
        "\n",
        "from tensorflow.keras import layers\n",
        "from tensorflow.keras import losses\n",
        "from tensorflow.keras import preprocessing\n",
        "from tensorflow.keras import utils\n",
        "from tensorflow.keras.layers.experimental.preprocessing import TextVectorization\n",
        "\n",
        "import tensorflow_datasets as tfds\n",
        "import tensorflow_text as tf_text\n",
        "import pandas as pd\n",
        "import numpy as np"
      ],
      "id": "analyzed-proposal",
      "execution_count": 3,
      "outputs": []
    },
    {
      "cell_type": "code",
      "metadata": {
        "id": "amber-worcester"
      },
      "source": [
        "df = pd.read_csv(\"/content/drive/MyDrive/main_lines_verses.csv\")"
      ],
      "id": "amber-worcester",
      "execution_count": 4,
      "outputs": []
    },
    {
      "cell_type": "code",
      "metadata": {
        "id": "brutal-restriction"
      },
      "source": [
        "from sklearn.utils import shuffle\n",
        "df = shuffle(df)"
      ],
      "id": "brutal-restriction",
      "execution_count": 5,
      "outputs": []
    },
    {
      "cell_type": "code",
      "metadata": {
        "colab": {
          "base_uri": "https://localhost:8080/",
          "height": 195
        },
        "id": "powerful-wichita",
        "outputId": "ace76ac0-6727-40f3-91a0-b6b2dd895daa"
      },
      "source": [
        "df.head()"
      ],
      "id": "powerful-wichita",
      "execution_count": 6,
      "outputs": [
        {
          "output_type": "execute_result",
          "data": {
            "text/html": [
              "<div>\n",
              "<style scoped>\n",
              "    .dataframe tbody tr th:only-of-type {\n",
              "        vertical-align: middle;\n",
              "    }\n",
              "\n",
              "    .dataframe tbody tr th {\n",
              "        vertical-align: top;\n",
              "    }\n",
              "\n",
              "    .dataframe thead th {\n",
              "        text-align: right;\n",
              "    }\n",
              "</style>\n",
              "<table border=\"1\" class=\"dataframe\">\n",
              "  <thead>\n",
              "    <tr style=\"text-align: right;\">\n",
              "      <th></th>\n",
              "      <th>artist_name</th>\n",
              "      <th>line</th>\n",
              "    </tr>\n",
              "  </thead>\n",
              "  <tbody>\n",
              "    <tr>\n",
              "      <th>10124</th>\n",
              "      <td>Ad-Rock, Mike D, MCA</td>\n",
              "      <td>Remember the good old days with the rockabilly...</td>\n",
              "    </tr>\n",
              "    <tr>\n",
              "      <th>131308</th>\n",
              "      <td>Vinnie</td>\n",
              "      <td>Which meanin that you FAKE ASS NIGGAZ who conn...</td>\n",
              "    </tr>\n",
              "    <tr>\n",
              "      <th>189925</th>\n",
              "      <td>Method Man</td>\n",
              "      <td>That's on e'rythang, put it on the kids and th...</td>\n",
              "    </tr>\n",
              "    <tr>\n",
              "      <th>191617</th>\n",
              "      <td>Method Man, Samples</td>\n",
              "      <td>Who y’all kiddin’? Tryin to act like my shoe f...</td>\n",
              "    </tr>\n",
              "    <tr>\n",
              "      <th>195589</th>\n",
              "      <td>Xzibit</td>\n",
              "      <td>Get it crackin' to the third degree</td>\n",
              "    </tr>\n",
              "  </tbody>\n",
              "</table>\n",
              "</div>"
            ],
            "text/plain": [
              "                 artist_name                                               line\n",
              "10124   Ad-Rock, Mike D, MCA  Remember the good old days with the rockabilly...\n",
              "131308                Vinnie  Which meanin that you FAKE ASS NIGGAZ who conn...\n",
              "189925            Method Man  That's on e'rythang, put it on the kids and th...\n",
              "191617   Method Man, Samples  Who y’all kiddin’? Tryin to act like my shoe f...\n",
              "195589                Xzibit                Get it crackin' to the third degree"
            ]
          },
          "metadata": {
            "tags": []
          },
          "execution_count": 6
        }
      ]
    },
    {
      "cell_type": "code",
      "metadata": {
        "id": "proud-geometry"
      },
      "source": [
        "# df.replace(\"Jay-Z\", \"JAY-Z\", inplace=True)\n",
        "# df.replace(\"KRS-One\", \"KRS-ONE\", inplace=True)\n",
        "# df.replace(\"LL Cool J\", \"L.L. Cool J\", inplace=True)\n",
        "# df.replace(\"Royce da 5'9\", \"Royce Da 5'9\", inplace=True)\n",
        "df.replace(\"Notorious B.I.G.\", \"The Notorious B.I.G.\", inplace=True)\n",
        "df = df.groupby('artist_name').filter(lambda x : len(x)>1000)\n",
        "df = df[df['line'].apply(lambda x: len(x.split(\" \")) > 3)]"
      ],
      "id": "proud-geometry",
      "execution_count": 7,
      "outputs": []
    },
    {
      "cell_type": "code",
      "metadata": {
        "id": "urban-aluminum"
      },
      "source": [
        "list = ['The Notorious B.I.G.', 'Ice Cube', 'Nas', '2Pac', 'Method Man', 'Eminem',\n",
        "        'Ghostface Killah', 'Snoop Dogg', 'DMX', 'Dr. Dre', 'GZA', 'RZA']\n",
        "df = df[df['artist_name'].isin(list)]"
      ],
      "id": "urban-aluminum",
      "execution_count": 9,
      "outputs": []
    },
    {
      "cell_type": "code",
      "metadata": {
        "colab": {
          "base_uri": "https://localhost:8080/"
        },
        "id": "extensive-checkout",
        "outputId": "dab379ef-6e2e-48ea-81a0-18fda02d93a4"
      },
      "source": [
        "df['artist_name'].value_counts()"
      ],
      "id": "extensive-checkout",
      "execution_count": 10,
      "outputs": [
        {
          "output_type": "execute_result",
          "data": {
            "text/plain": [
              "Eminem                  8377\n",
              "Ice Cube                4381\n",
              "Nas                     3821\n",
              "2Pac                    3775\n",
              "Method Man              3331\n",
              "Ghostface Killah        3063\n",
              "The Notorious B.I.G.    2695\n",
              "Snoop Dogg              2626\n",
              "DMX                     2562\n",
              "Dr. Dre                 2235\n",
              "GZA                     2033\n",
              "RZA                     1762\n",
              "Name: artist_name, dtype: int64"
            ]
          },
          "metadata": {
            "tags": []
          },
          "execution_count": 10
        }
      ]
    },
    {
      "cell_type": "code",
      "metadata": {
        "colab": {
          "base_uri": "https://localhost:8080/",
          "height": 195
        },
        "id": "pOM7zuXQ9k1p",
        "outputId": "9c738920-60c4-41a5-aeac-a0e5e588910f"
      },
      "source": [
        "west_coast_list = ['Ice Cube', '2Pac', 'Eminem', 'Snoop Dogg', 'Dr. Dre']\n",
        "df[\"coast\"] = [\"W\" if el in west_coast_list else \"E\" for el in df[\"artist_name\"]]\n",
        "df.drop(['artist_name'], axis=1, inplace=True)\n",
        "df.head()"
      ],
      "id": "pOM7zuXQ9k1p",
      "execution_count": 11,
      "outputs": [
        {
          "output_type": "execute_result",
          "data": {
            "text/html": [
              "<div>\n",
              "<style scoped>\n",
              "    .dataframe tbody tr th:only-of-type {\n",
              "        vertical-align: middle;\n",
              "    }\n",
              "\n",
              "    .dataframe tbody tr th {\n",
              "        vertical-align: top;\n",
              "    }\n",
              "\n",
              "    .dataframe thead th {\n",
              "        text-align: right;\n",
              "    }\n",
              "</style>\n",
              "<table border=\"1\" class=\"dataframe\">\n",
              "  <thead>\n",
              "    <tr style=\"text-align: right;\">\n",
              "      <th></th>\n",
              "      <th>line</th>\n",
              "      <th>coast</th>\n",
              "    </tr>\n",
              "  </thead>\n",
              "  <tbody>\n",
              "    <tr>\n",
              "      <th>189925</th>\n",
              "      <td>That's on e'rythang, put it on the kids and th...</td>\n",
              "      <td>E</td>\n",
              "    </tr>\n",
              "    <tr>\n",
              "      <th>72920</th>\n",
              "      <td>Vision impaired when the silhouette emerged</td>\n",
              "      <td>E</td>\n",
              "    </tr>\n",
              "    <tr>\n",
              "      <th>348</th>\n",
              "      <td>Your city is the bomb if your city makin' pay</td>\n",
              "      <td>W</td>\n",
              "    </tr>\n",
              "    <tr>\n",
              "      <th>173972</th>\n",
              "      <td>Straight to the County with no motherfuckin' bail</td>\n",
              "      <td>W</td>\n",
              "    </tr>\n",
              "    <tr>\n",
              "      <th>34291</th>\n",
              "      <td>You don't know, fuck it, find out the hard way</td>\n",
              "      <td>E</td>\n",
              "    </tr>\n",
              "  </tbody>\n",
              "</table>\n",
              "</div>"
            ],
            "text/plain": [
              "                                                     line coast\n",
              "189925  That's on e'rythang, put it on the kids and th...     E\n",
              "72920         Vision impaired when the silhouette emerged     E\n",
              "348         Your city is the bomb if your city makin' pay     W\n",
              "173972  Straight to the County with no motherfuckin' bail     W\n",
              "34291      You don't know, fuck it, find out the hard way     E"
            ]
          },
          "metadata": {
            "tags": []
          },
          "execution_count": 11
        }
      ]
    },
    {
      "cell_type": "code",
      "metadata": {
        "id": "becoming-object"
      },
      "source": [
        "lyrics_features = df['line']\n",
        "lyrics_labels = df.pop('coast')"
      ],
      "id": "becoming-object",
      "execution_count": 12,
      "outputs": []
    },
    {
      "cell_type": "code",
      "metadata": {
        "colab": {
          "base_uri": "https://localhost:8080/"
        },
        "id": "chemical-wrapping",
        "outputId": "c694ac39-451f-475d-ac0b-3bd10e6cbb7b"
      },
      "source": [
        "lyrics_labels"
      ],
      "id": "chemical-wrapping",
      "execution_count": 13,
      "outputs": [
        {
          "output_type": "execute_result",
          "data": {
            "text/plain": [
              "189925    E\n",
              "72920     E\n",
              "348       W\n",
              "173972    W\n",
              "34291     E\n",
              "         ..\n",
              "1523      W\n",
              "115223    E\n",
              "126772    E\n",
              "3380      W\n",
              "79804     W\n",
              "Name: coast, Length: 40661, dtype: object"
            ]
          },
          "metadata": {
            "tags": []
          },
          "execution_count": 13
        }
      ]
    },
    {
      "cell_type": "code",
      "metadata": {
        "colab": {
          "base_uri": "https://localhost:8080/"
        },
        "id": "renewable-following",
        "outputId": "5f2dfedb-8190-48dd-e334-8dc15e2059c8"
      },
      "source": [
        "set(lyrics_labels)"
      ],
      "id": "renewable-following",
      "execution_count": 14,
      "outputs": [
        {
          "output_type": "execute_result",
          "data": {
            "text/plain": [
              "{'E', 'W'}"
            ]
          },
          "metadata": {
            "tags": []
          },
          "execution_count": 14
        }
      ]
    },
    {
      "cell_type": "code",
      "metadata": {
        "id": "considered-wiring"
      },
      "source": [
        "lyrics_labels = lyrics_labels.astype(\"category\")"
      ],
      "id": "considered-wiring",
      "execution_count": 16,
      "outputs": []
    },
    {
      "cell_type": "code",
      "metadata": {
        "colab": {
          "base_uri": "https://localhost:8080/"
        },
        "id": "optimum-valuation",
        "outputId": "c302854d-7d19-4c34-e3a8-538b1334e788"
      },
      "source": [
        "coast_ids = dict(enumerate(lyrics_labels.cat.categories))\n",
        "coast_ids"
      ],
      "id": "optimum-valuation",
      "execution_count": 18,
      "outputs": [
        {
          "output_type": "execute_result",
          "data": {
            "text/plain": [
              "{0: 'E', 1: 'W'}"
            ]
          },
          "metadata": {
            "tags": []
          },
          "execution_count": 18
        }
      ]
    },
    {
      "cell_type": "code",
      "metadata": {
        "id": "filled-argentina"
      },
      "source": [
        "lyrics_labels = lyrics_labels.cat.codes"
      ],
      "id": "filled-argentina",
      "execution_count": 19,
      "outputs": []
    },
    {
      "cell_type": "code",
      "metadata": {
        "colab": {
          "base_uri": "https://localhost:8080/"
        },
        "id": "adult-counter",
        "outputId": "693f78fb-ce09-4c12-8cbe-37f44f285002"
      },
      "source": [
        "lyrics_labels"
      ],
      "id": "adult-counter",
      "execution_count": 20,
      "outputs": [
        {
          "output_type": "execute_result",
          "data": {
            "text/plain": [
              "189925    0\n",
              "72920     0\n",
              "348       1\n",
              "173972    1\n",
              "34291     0\n",
              "         ..\n",
              "1523      1\n",
              "115223    0\n",
              "126772    0\n",
              "3380      1\n",
              "79804     1\n",
              "Length: 40661, dtype: int8"
            ]
          },
          "metadata": {
            "tags": []
          },
          "execution_count": 20
        }
      ]
    },
    {
      "cell_type": "code",
      "metadata": {
        "id": "concerned-birmingham"
      },
      "source": [
        "lyrics_ds = tf.data.Dataset.from_tensor_slices((lyrics_features, lyrics_labels))"
      ],
      "id": "concerned-birmingham",
      "execution_count": 21,
      "outputs": []
    },
    {
      "cell_type": "code",
      "metadata": {
        "id": "convenient-setup"
      },
      "source": [
        "BUFFER_SIZE = 38000\n",
        "BATCH_SIZE = 64\n",
        "VALIDATION_SIZE = 3000"
      ],
      "id": "convenient-setup",
      "execution_count": 22,
      "outputs": []
    },
    {
      "cell_type": "code",
      "metadata": {
        "colab": {
          "base_uri": "https://localhost:8080/"
        },
        "id": "circular-colorado",
        "outputId": "05f2caf8-08ca-4b63-c143-cb54cacc0241"
      },
      "source": [
        "all_labeled_data = lyrics_ds.shuffle(\n",
        "    BUFFER_SIZE, reshuffle_each_iteration=False)\n",
        "\n",
        "for text, label in all_labeled_data.take(10):\n",
        "  print(\"Line: \", text.numpy())\n",
        "  print(\"Coast:\", label.numpy())"
      ],
      "id": "circular-colorado",
      "execution_count": 24,
      "outputs": [
        {
          "output_type": "stream",
          "text": [
            "Line:  b\"Life full of riches avoid snitches 'cause they shady, back in the days\"\n",
            "Coast: 1\n",
            "Line:  b\"'Cause it's only one percent\"\n",
            "Coast: 1\n",
            "Line:  b'Look at all the bullshit I been through'\n",
            "Coast: 0\n",
            "Line:  b'Like round chuck, and still put hands on you'\n",
            "Coast: 1\n",
            "Line:  b\"I'm not Mr. N'Sync, I'm not what your friends think\"\n",
            "Coast: 1\n",
            "Line:  b\"I'm not telling you to diss Mr. Ice Cube\"\n",
            "Coast: 1\n",
            "Line:  b'I hope you get to read this letter, I just hope it reaches you in time'\n",
            "Coast: 1\n",
            "Line:  b'Sayin the best part of the day is my half'\n",
            "Coast: 0\n",
            "Line:  b'Many dreams is what I had, and plenty wishes'\n",
            "Coast: 1\n",
            "Line:  b'Big juicy legs and a nice pair of kegs'\n",
            "Coast: 1\n"
          ],
          "name": "stdout"
        }
      ]
    },
    {
      "cell_type": "code",
      "metadata": {
        "id": "dried-score"
      },
      "source": [
        "AUTOTUNE = tf.data.AUTOTUNE\n",
        "\n",
        "def configure_dataset(dataset):\n",
        "  return dataset.cache().prefetch(buffer_size=AUTOTUNE)"
      ],
      "id": "dried-score",
      "execution_count": 25,
      "outputs": []
    },
    {
      "cell_type": "markdown",
      "metadata": {
        "id": "stopped-wheel"
      },
      "source": [
        "### RNN CLASSIFIER"
      ],
      "id": "stopped-wheel"
    },
    {
      "cell_type": "code",
      "metadata": {
        "id": "antique-gilbert"
      },
      "source": [
        "import matplotlib.pyplot as plt\n",
        "\n",
        "\n",
        "def plot_graphs(history, metric):\n",
        "  plt.plot(history.history[metric])\n",
        "  plt.plot(history.history['val_'+metric], '')\n",
        "  plt.xlabel(\"Epochs\")\n",
        "  plt.ylabel(metric)\n",
        "  plt.legend([metric, 'val_'+metric])"
      ],
      "id": "antique-gilbert",
      "execution_count": 26,
      "outputs": []
    },
    {
      "cell_type": "code",
      "metadata": {
        "id": "received-invasion"
      },
      "source": [
        "VOCAB_SIZE = 8000"
      ],
      "id": "received-invasion",
      "execution_count": 27,
      "outputs": []
    },
    {
      "cell_type": "code",
      "metadata": {
        "id": "rental-footage"
      },
      "source": [
        "train_dataset = all_labeled_data.skip(VALIDATION_SIZE).shuffle(BUFFER_SIZE)\n",
        "test_dataset = all_labeled_data.take(VALIDATION_SIZE)"
      ],
      "id": "rental-footage",
      "execution_count": 28,
      "outputs": []
    },
    {
      "cell_type": "code",
      "metadata": {
        "id": "spoken-handy"
      },
      "source": [
        "train_dataset = train_dataset.shuffle(BUFFER_SIZE).batch(BATCH_SIZE).prefetch(tf.data.AUTOTUNE)\n",
        "test_dataset = test_dataset.batch(BATCH_SIZE).prefetch(tf.data.AUTOTUNE)"
      ],
      "id": "spoken-handy",
      "execution_count": 29,
      "outputs": []
    },
    {
      "cell_type": "code",
      "metadata": {
        "colab": {
          "base_uri": "https://localhost:8080/"
        },
        "id": "consistent-share",
        "outputId": "99275361-4248-4e22-ed91-5788724113f7"
      },
      "source": [
        "for example, label in train_dataset.take(1):\n",
        "  print('texts: ', example.numpy()[:3])\n",
        "  print('lebal: ', label.numpy()[:3])"
      ],
      "id": "consistent-share",
      "execution_count": 30,
      "outputs": [
        {
          "output_type": "stream",
          "text": [
            "texts:  [b'When me and my posse stepped in the house'\n",
            " b'With whiskers like a rat, compared to Beans you whack'\n",
            " b\"He's up, we's up, East up\"]\n",
            "lebal:  [1 0 1]\n"
          ],
          "name": "stdout"
        }
      ]
    },
    {
      "cell_type": "code",
      "metadata": {
        "id": "higher-skiing"
      },
      "source": [
        "encoder = tf.keras.layers.experimental.preprocessing.TextVectorization(\n",
        "    max_tokens=VOCAB_SIZE)\n",
        "encoder.adapt(train_dataset.map(lambda text, label: text))"
      ],
      "id": "higher-skiing",
      "execution_count": 31,
      "outputs": []
    },
    {
      "cell_type": "code",
      "metadata": {
        "colab": {
          "base_uri": "https://localhost:8080/"
        },
        "id": "incorporate-suffering",
        "outputId": "7c781f31-18a2-47e3-9040-9811554f33c1"
      },
      "source": [
        "vocab = np.array(encoder.get_vocabulary())\n",
        "vocab[:20]\n"
      ],
      "id": "incorporate-suffering",
      "execution_count": 32,
      "outputs": [
        {
          "output_type": "execute_result",
          "data": {
            "text/plain": [
              "array(['', '[UNK]', 'the', 'i', 'a', 'to', 'and', 'you', 'my', 'in', 'it',\n",
              "       'me', 'im', 'on', 'of', 'with', 'that', 'like', 'your', 'up'],\n",
              "      dtype='<U15')"
            ]
          },
          "metadata": {
            "tags": []
          },
          "execution_count": 32
        }
      ]
    },
    {
      "cell_type": "code",
      "metadata": {
        "colab": {
          "base_uri": "https://localhost:8080/"
        },
        "id": "welsh-personal",
        "outputId": "1b061e0e-2906-4546-c8f0-bafbd9a4ce8c"
      },
      "source": [
        "encoded_example = encoder(example)[:10].numpy()\n",
        "encoded_example"
      ],
      "id": "welsh-personal",
      "execution_count": 33,
      "outputs": [
        {
          "output_type": "execute_result",
          "data": {
            "text/plain": [
              "array([[  34,   11,    6,    8, 2521, 1108,    9,    2,  211,    0,    0,\n",
              "           0],\n",
              "       [  15,    1,   17,    4, 2518, 3702,    5, 3747,    7, 3102,    0,\n",
              "           0],\n",
              "       [ 234,   19, 4999,   19, 1185,   19,    0,    0,    0,    0,    0,\n",
              "           0],\n",
              "       [  34,    2,    1,    6,    2,  825,  369, 4088,    5,  345,    0,\n",
              "           0],\n",
              "       [  10,   30, 4495, 7843,   21,    7,    5,    1,    2,  349, 6698,\n",
              "           0],\n",
              "       [ 244,    9,    4,  242,  420,  499,    1,   65,    2,  935,    0,\n",
              "           0],\n",
              "       [  76,  435,   46,  207,  159,    3,  260,    2,  292,    1,    0,\n",
              "           0],\n",
              "       [  22,   16,  193,  158, 1899,   45, 4692,    0,    0,    0,    0,\n",
              "           0],\n",
              "       [   3,  840,   73,    5,  526,    2,   70,   45,    2,    1,    0,\n",
              "           0],\n",
              "       [   3,  356,   33,  336,   27,  491,  365,  578,   63,  150,   10,\n",
              "          50]])"
            ]
          },
          "metadata": {
            "tags": []
          },
          "execution_count": 33
        }
      ]
    },
    {
      "cell_type": "code",
      "metadata": {
        "id": "keeXx_9X0UAP",
        "colab": {
          "base_uri": "https://localhost:8080/"
        },
        "outputId": "ebae9b74-a5ec-417d-ea73-9c8f8bc820d9"
      },
      "source": [
        "for n in range(10):\n",
        "  print(\"Original: \", example[n].numpy())\n",
        "  print(\"Round-trip: \", \" \".join(vocab[encoded_example[n]]))\n",
        "  print()"
      ],
      "id": "keeXx_9X0UAP",
      "execution_count": 34,
      "outputs": [
        {
          "output_type": "stream",
          "text": [
            "Original:  b'When me and my posse stepped in the house'\n",
            "Round-trip:  when me and my posse stepped in the house   \n",
            "\n",
            "Original:  b'With whiskers like a rat, compared to Beans you whack'\n",
            "Round-trip:  with [UNK] like a rat compared to beans you whack  \n",
            "\n",
            "Original:  b\"He's up, we's up, East up\"\n",
            "Round-trip:  hes up wes up east up      \n",
            "\n",
            "Original:  b'When The Neptunes and the Doggy Dogg fin to spit'\n",
            "Round-trip:  when the [UNK] and the doggy dogg fin to spit  \n",
            "\n",
            "Original:  b'It was prime urgent, for you to examine the rhyme merchant'\n",
            "Round-trip:  it was prime urgent for you to [UNK] the rhyme merchant \n",
            "\n",
            "Original:  b'Walk in a straight line, ten paces, down the road'\n",
            "Round-trip:  walk in a straight line ten [UNK] down the road  \n",
            "\n",
            "Original:  b\"These cats know what's good, I am the hood (Aii)\"\n",
            "Round-trip:  these cats know whats good i am the hood [UNK]  \n",
            "\n",
            "Original:  b\"But that didn't stop fate from happening\"\n",
            "Round-trip:  but that didnt stop fate from happening     \n",
            "\n",
            "Original:  b'I learned not to trust the bitch from the prostitutes'\n",
            "Round-trip:  i learned not to trust the bitch from the [UNK]  \n",
            "\n",
            "Original:  b'I started out broke, got rich, lost paper then made it back'\n",
            "Round-trip:  i started out broke got rich lost paper then made it back\n",
            "\n"
          ],
          "name": "stdout"
        }
      ]
    },
    {
      "cell_type": "code",
      "metadata": {
        "id": "VkBdkkzY0oof"
      },
      "source": [
        "model = tf.keras.Sequential([\n",
        "    encoder,\n",
        "    tf.keras.layers.Embedding(\n",
        "        input_dim=len(encoder.get_vocabulary()),\n",
        "        output_dim=64,\n",
        "        # Use masking to handle the variable sequence lengths\n",
        "        mask_zero=True),\n",
        "    tf.keras.layers.Bidirectional(tf.keras.layers.LSTM(64)),\n",
        "    tf.keras.layers.Dense(64, activation='relu'),\n",
        "    tf.keras.layers.Dense(1)\n",
        "])\n"
      ],
      "id": "VkBdkkzY0oof",
      "execution_count": 35,
      "outputs": []
    },
    {
      "cell_type": "code",
      "metadata": {
        "id": "vVaRT2Ac1AOd"
      },
      "source": [
        "model.compile(loss=tf.keras.losses.BinaryCrossentropy(from_logits=True),\n",
        "              optimizer=tf.keras.optimizers.Adam(1e-4),\n",
        "              metrics=['accuracy'])"
      ],
      "id": "vVaRT2Ac1AOd",
      "execution_count": 38,
      "outputs": []
    },
    {
      "cell_type": "code",
      "metadata": {
        "id": "LV1fSGuW1K1z",
        "colab": {
          "base_uri": "https://localhost:8080/"
        },
        "outputId": "bd8a33f0-9b13-4cbd-b8e7-235f9566ec84"
      },
      "source": [
        "history = model.fit(train_dataset, epochs=10,\n",
        "                    validation_data=test_dataset,\n",
        "                    validation_steps=30)"
      ],
      "id": "LV1fSGuW1K1z",
      "execution_count": 40,
      "outputs": [
        {
          "output_type": "stream",
          "text": [
            "Epoch 1/10\n",
            "589/589 [==============================] - 17s 29ms/step - loss: 0.6634 - accuracy: 0.5281 - val_loss: 0.6168 - val_accuracy: 0.6203\n",
            "Epoch 2/10\n",
            "589/589 [==============================] - 15s 25ms/step - loss: 0.5681 - accuracy: 0.6847 - val_loss: 0.5923 - val_accuracy: 0.6698\n",
            "Epoch 3/10\n",
            "589/589 [==============================] - 15s 25ms/step - loss: 0.5150 - accuracy: 0.7311 - val_loss: 0.6011 - val_accuracy: 0.6979\n",
            "Epoch 4/10\n",
            "589/589 [==============================] - 15s 25ms/step - loss: 0.4846 - accuracy: 0.7530 - val_loss: 0.6031 - val_accuracy: 0.6927\n",
            "Epoch 5/10\n",
            "589/589 [==============================] - 15s 25ms/step - loss: 0.4632 - accuracy: 0.7688 - val_loss: 0.6137 - val_accuracy: 0.6896\n",
            "Epoch 6/10\n",
            "589/589 [==============================] - 15s 25ms/step - loss: 0.4472 - accuracy: 0.7779 - val_loss: 0.6259 - val_accuracy: 0.6974\n",
            "Epoch 7/10\n",
            "589/589 [==============================] - 15s 25ms/step - loss: 0.4315 - accuracy: 0.7895 - val_loss: 0.6376 - val_accuracy: 0.6922\n",
            "Epoch 8/10\n",
            "589/589 [==============================] - 14s 24ms/step - loss: 0.4172 - accuracy: 0.7989 - val_loss: 0.6674 - val_accuracy: 0.6896\n",
            "Epoch 9/10\n",
            "589/589 [==============================] - 15s 25ms/step - loss: 0.4036 - accuracy: 0.8096 - val_loss: 0.6774 - val_accuracy: 0.6911\n",
            "Epoch 10/10\n",
            "589/589 [==============================] - 15s 25ms/step - loss: 0.3908 - accuracy: 0.8164 - val_loss: 0.6953 - val_accuracy: 0.6880\n"
          ],
          "name": "stdout"
        }
      ]
    },
    {
      "cell_type": "code",
      "metadata": {
        "id": "6TaPEujO3eXq",
        "colab": {
          "base_uri": "https://localhost:8080/"
        },
        "outputId": "5702f76a-a511-4eab-9c61-376b788ee5a4"
      },
      "source": [
        "test_loss, test_acc = model.evaluate(test_dataset)\n",
        "\n",
        "print('Test Loss:', test_loss)\n",
        "print('Test Accuracy:', test_acc)"
      ],
      "id": "6TaPEujO3eXq",
      "execution_count": 41,
      "outputs": [
        {
          "output_type": "stream",
          "text": [
            "47/47 [==============================] - 0s 9ms/step - loss: 0.6954 - accuracy: 0.6787\n",
            "Test Loss: 0.6954459547996521\n",
            "Test Accuracy: 0.6786666512489319\n"
          ],
          "name": "stdout"
        }
      ]
    },
    {
      "cell_type": "code",
      "metadata": {
        "id": "RzIOVSdnMYyO",
        "colab": {
          "base_uri": "https://localhost:8080/"
        },
        "outputId": "939b5750-8e5d-4b79-fbf9-eb8c54bf6a32"
      },
      "source": [
        "!pip install pyyaml h5py  # Required to save models in HDF5 format\n",
        "\n",
        "!mkdir -p saved_model\n",
        "model.save('saved_model/my_model') "
      ],
      "id": "RzIOVSdnMYyO",
      "execution_count": 47,
      "outputs": [
        {
          "output_type": "stream",
          "text": [
            "Requirement already satisfied: pyyaml in /usr/local/lib/python3.7/dist-packages (3.13)\n",
            "Requirement already satisfied: h5py in /usr/local/lib/python3.7/dist-packages (2.10.0)\n",
            "Requirement already satisfied: numpy>=1.7 in /usr/local/lib/python3.7/dist-packages (from h5py) (1.19.5)\n",
            "Requirement already satisfied: six in /usr/local/lib/python3.7/dist-packages (from h5py) (1.15.0)\n"
          ],
          "name": "stdout"
        },
        {
          "output_type": "stream",
          "text": [
            "WARNING:absl:Found untraced functions such as lstm_cell_1_layer_call_fn, lstm_cell_1_layer_call_and_return_conditional_losses, lstm_cell_2_layer_call_fn, lstm_cell_2_layer_call_and_return_conditional_losses, lstm_cell_1_layer_call_fn while saving (showing 5 of 10). These functions will not be directly callable after loading.\n",
            "WARNING:absl:Found untraced functions such as lstm_cell_1_layer_call_fn, lstm_cell_1_layer_call_and_return_conditional_losses, lstm_cell_2_layer_call_fn, lstm_cell_2_layer_call_and_return_conditional_losses, lstm_cell_1_layer_call_fn while saving (showing 5 of 10). These functions will not be directly callable after loading.\n"
          ],
          "name": "stderr"
        },
        {
          "output_type": "stream",
          "text": [
            "INFO:tensorflow:Assets written to: saved_model/my_model/assets\n"
          ],
          "name": "stdout"
        },
        {
          "output_type": "stream",
          "text": [
            "INFO:tensorflow:Assets written to: saved_model/my_model/assets\n"
          ],
          "name": "stderr"
        }
      ]
    },
    {
      "cell_type": "code",
      "metadata": {
        "id": "YmSlv9D83g0W",
        "colab": {
          "base_uri": "https://localhost:8080/",
          "height": 518
        },
        "outputId": "ea19df3c-2519-4267-b858-a64e2984bb97"
      },
      "source": [
        "plt.figure(figsize=(16, 8))\n",
        "plt.subplot(1, 2, 1)\n",
        "plot_graphs(history, 'accuracy')\n",
        "plt.ylim(None, 1)\n",
        "plt.subplot(1, 2, 2)\n",
        "plot_graphs(history, 'loss')\n",
        "plt.ylim(0, None)"
      ],
      "id": "YmSlv9D83g0W",
      "execution_count": 48,
      "outputs": [
        {
          "output_type": "execute_result",
          "data": {
            "text/plain": [
              "(0.0, 0.7105538621544838)"
            ]
          },
          "metadata": {
            "tags": []
          },
          "execution_count": 48
        },
        {
          "output_type": "display_data",
          "data": {
            "image/png": "[encoded data removed]",
            "text/plain": [
              "<Figure size 1152x576 with 2 Axes>"
            ]
          },
          "metadata": {
            "tags": [],
            "needs_background": "light"
          }
        }
      ]
    },
    {
      "cell_type": "code",
      "metadata": {
        "id": "BqCaMXvl3tal"
      },
      "source": [
        "model = tf.keras.Sequential([\n",
        "    encoder,\n",
        "    tf.keras.layers.Embedding(len(encoder.get_vocabulary()), 64, mask_zero=True),\n",
        "    tf.keras.layers.Bidirectional(tf.keras.layers.LSTM(64,  return_sequences=True)),\n",
        "    tf.keras.layers.Bidirectional(tf.keras.layers.LSTM(32)),\n",
        "    tf.keras.layers.Dense(64, activation='relu'),\n",
        "    tf.keras.layers.Dropout(0.5),\n",
        "    tf.keras.layers.Dense(1)\n",
        "])\n"
      ],
      "id": "BqCaMXvl3tal",
      "execution_count": 51,
      "outputs": []
    },
    {
      "cell_type": "code",
      "metadata": {
        "id": "eDuu92II3zBS"
      },
      "source": [
        "model.compile(loss=tf.keras.losses.BinaryCrossentropy(from_logits=True),\n",
        "              optimizer=tf.keras.optimizers.Adam(1e-4),\n",
        "              metrics=['accuracy'])"
      ],
      "id": "eDuu92II3zBS",
      "execution_count": 52,
      "outputs": []
    },
    {
      "cell_type": "code",
      "metadata": {
        "id": "BKSV1OsU35Lh",
        "colab": {
          "base_uri": "https://localhost:8080/"
        },
        "outputId": "71869417-105d-4e32-bf5f-e3c763b7797b"
      },
      "source": [
        "history = model.fit(train_dataset, epochs=10,\n",
        "                    validation_data=test_dataset,\n",
        "                    validation_steps=10)"
      ],
      "id": "BKSV1OsU35Lh",
      "execution_count": 53,
      "outputs": [
        {
          "output_type": "stream",
          "text": [
            "Epoch 1/10\n",
            "589/589 [==============================] - 48s 46ms/step - loss: 0.6843 - accuracy: 0.4836 - val_loss: 0.6351 - val_accuracy: 0.6250\n",
            "Epoch 2/10\n",
            "589/589 [==============================] - 23s 38ms/step - loss: 0.5834 - accuracy: 0.6619 - val_loss: 0.6243 - val_accuracy: 0.6484\n",
            "Epoch 3/10\n",
            "589/589 [==============================] - 22s 38ms/step - loss: 0.5204 - accuracy: 0.7314 - val_loss: 0.6225 - val_accuracy: 0.6859\n",
            "Epoch 4/10\n",
            "589/589 [==============================] - 22s 38ms/step - loss: 0.4869 - accuracy: 0.7589 - val_loss: 0.6371 - val_accuracy: 0.6766\n",
            "Epoch 5/10\n",
            "589/589 [==============================] - 22s 38ms/step - loss: 0.4554 - accuracy: 0.7825 - val_loss: 0.6424 - val_accuracy: 0.6625\n",
            "Epoch 6/10\n",
            "589/589 [==============================] - 22s 38ms/step - loss: 0.4369 - accuracy: 0.7959 - val_loss: 0.6722 - val_accuracy: 0.6562\n",
            "Epoch 7/10\n",
            "589/589 [==============================] - 22s 38ms/step - loss: 0.4231 - accuracy: 0.8019 - val_loss: 0.6789 - val_accuracy: 0.6578\n",
            "Epoch 8/10\n",
            "589/589 [==============================] - 22s 38ms/step - loss: 0.4069 - accuracy: 0.8118 - val_loss: 0.7066 - val_accuracy: 0.6609\n",
            "Epoch 9/10\n",
            "589/589 [==============================] - 22s 38ms/step - loss: 0.3898 - accuracy: 0.8251 - val_loss: 0.7024 - val_accuracy: 0.6609\n",
            "Epoch 10/10\n",
            "589/589 [==============================] - 22s 38ms/step - loss: 0.3798 - accuracy: 0.8283 - val_loss: 0.7331 - val_accuracy: 0.6703\n"
          ],
          "name": "stdout"
        }
      ]
    },
    {
      "cell_type": "code",
      "metadata": {
        "id": "7TsGpPt-7ZCV",
        "colab": {
          "base_uri": "https://localhost:8080/"
        },
        "outputId": "1d8ffc7c-9c59-47ab-d7ae-b7bea4a9876c"
      },
      "source": [
        "test_loss, test_acc = model.evaluate(test_dataset)\n",
        "\n",
        "print('Test Loss:', test_loss)\n",
        "print('Test Accuracy:', test_acc)"
      ],
      "id": "7TsGpPt-7ZCV",
      "execution_count": 54,
      "outputs": [
        {
          "output_type": "stream",
          "text": [
            "47/47 [==============================] - 1s 14ms/step - loss: 0.7042 - accuracy: 0.6767\n",
            "Test Loss: 0.7041543126106262\n",
            "Test Accuracy: 0.6766666769981384\n"
          ],
          "name": "stdout"
        }
      ]
    },
    {
      "cell_type": "code",
      "metadata": {
        "colab": {
          "base_uri": "https://localhost:8080/"
        },
        "id": "oFp5iw7QDDqc",
        "outputId": "d6a3f946-9c95-4a5b-e0c3-c2561eb7c48b"
      },
      "source": [
        "!mkdir -p saved_model\n",
        "model.save('saved_model/rnn_coast_classifier_1_1') "
      ],
      "id": "oFp5iw7QDDqc",
      "execution_count": 55,
      "outputs": [
        {
          "output_type": "stream",
          "text": [
            "WARNING:absl:Found untraced functions such as lstm_cell_10_layer_call_fn, lstm_cell_10_layer_call_and_return_conditional_losses, lstm_cell_11_layer_call_fn, lstm_cell_11_layer_call_and_return_conditional_losses, lstm_cell_13_layer_call_fn while saving (showing 5 of 20). These functions will not be directly callable after loading.\n",
            "WARNING:absl:Found untraced functions such as lstm_cell_10_layer_call_fn, lstm_cell_10_layer_call_and_return_conditional_losses, lstm_cell_11_layer_call_fn, lstm_cell_11_layer_call_and_return_conditional_losses, lstm_cell_13_layer_call_fn while saving (showing 5 of 20). These functions will not be directly callable after loading.\n"
          ],
          "name": "stderr"
        },
        {
          "output_type": "stream",
          "text": [
            "INFO:tensorflow:Assets written to: saved_model/rnn_coast_classifier_1_1/assets\n"
          ],
          "name": "stdout"
        },
        {
          "output_type": "stream",
          "text": [
            "INFO:tensorflow:Assets written to: saved_model/rnn_coast_classifier_1_1/assets\n"
          ],
          "name": "stderr"
        }
      ]
    },
    {
      "cell_type": "code",
      "metadata": {
        "id": "_EgNPX_f7dZ8",
        "colab": {
          "base_uri": "https://localhost:8080/"
        },
        "outputId": "f3f930fd-8e1e-4114-ef52-a3820e372c74"
      },
      "source": [
        "sample_text = ('Hilary Clinton tried to slap me and call me a pervert')\n",
        "predictions = model.predict(np.array([sample_text]))\n",
        "print(predictions)"
      ],
      "id": "_EgNPX_f7dZ8",
      "execution_count": 56,
      "outputs": [
        {
          "output_type": "stream",
          "text": [
            "[[2.5522861]]\n"
          ],
          "name": "stdout"
        }
      ]
    },
    {
      "cell_type": "code",
      "metadata": {
        "id": "sjb7xdik8EL6",
        "colab": {
          "base_uri": "https://localhost:8080/"
        },
        "outputId": "8d899664-f18f-44a1-8fd9-2e6948904dac"
      },
      "source": [
        "sample_text = (\"Big Poppa smash fools, bash fools\")\n",
        "predictions = model.predict(np.array([sample_text]))\n",
        "print(predictions)"
      ],
      "id": "sjb7xdik8EL6",
      "execution_count": 57,
      "outputs": [
        {
          "output_type": "stream",
          "text": [
            "[[-0.85360897]]\n"
          ],
          "name": "stdout"
        }
      ]
    }
  ]
}