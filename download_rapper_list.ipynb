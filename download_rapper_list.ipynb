{
 "cells": [
  {
   "cell_type": "markdown",
   "id": "latest-midwest",
   "metadata": {},
   "source": [
    "## Download rappers and groups list\n",
    "Quick and simple script for downloading list of 100 best rappers and rap groups of all time from ranker.com using the Selenium Web Driver, \"borrowed\" from similar project by John W. Miller - creator of lyricsgenius Python client used in the build_dataset.py"
   ]
  },
  {
   "cell_type": "code",
   "execution_count": 1,
   "id": "eastern-essay",
   "metadata": {},
   "outputs": [],
   "source": [
    "from urllib.request import Request, urlopen, quote # Python 3\n",
    "from bs4 import BeautifulSoup\n",
    "import requests\n",
    "import json\n",
    "import os\n",
    "import json\n",
    "\n",
    "import time\n",
    "from selenium import webdriver\n",
    "from selenium.webdriver.common.keys import Keys"
   ]
  },
  {
   "cell_type": "code",
   "execution_count": 2,
   "id": "grave-olive",
   "metadata": {},
   "outputs": [],
   "source": [
    "def getListFromRanker(url):\n",
    "    browser = webdriver.Chrome()\n",
    "    names = []\n",
    "    \n",
    "    browser.get(url)\n",
    "    time.sleep(1)\n",
    "\n",
    "    elem = browser.find_element_by_tag_name(\"body\")\n",
    "\n",
    "    no_of_pagedowns = 200\n",
    "\n",
    "    while no_of_pagedowns:\n",
    "        elem.send_keys(Keys.PAGE_DOWN)\n",
    "        time.sleep(0.2)\n",
    "        no_of_pagedowns-=1\n",
    "        \n",
    "    post_elems = browser.find_elements_by_xpath(\"//meta[@itemprop='name']\")\n",
    "    for post in post_elems:\n",
    "        name = post.get_attribute(\"content\")            \n",
    "        names.append(name)\n",
    "        \n",
    "    browser.quit()\n",
    "    return names"
   ]
  },
  {
   "cell_type": "code",
   "execution_count": 3,
   "id": "technical-disposition",
   "metadata": {
    "scrolled": true
   },
   "outputs": [],
   "source": [
    "rappers = getListFromRanker_Selenium('https://www.ranker.com/crowdranked-list/the-greatest-rappers-of-all-time')\n",
    "with open('rappers.json', 'w') as outfile:\n",
    "    json.dump(rappers, outfile)"
   ]
  },
  {
   "cell_type": "code",
   "execution_count": 4,
   "id": "convenient-october",
   "metadata": {},
   "outputs": [],
   "source": [
    "groups = getListFromRanker_Selenium('https://www.ranker.com/crowdranked-list/overall-best-hip-hop-crew')\n",
    "with open('groups.json', 'w') as outfile:\n",
    "    json.dump(groups, outfile)"
   ]
  }
 ],
 "metadata": {
  "kernelspec": {
   "display_name": "Python 3",
   "language": "python",
   "name": "python3"
  },
  "language_info": {
   "codemirror_mode": {
    "name": "ipython",
    "version": 3
   },
   "file_extension": ".py",
   "mimetype": "text/x-python",
   "name": "python",
   "nbconvert_exporter": "python",
   "pygments_lexer": "ipython3",
   "version": "3.8.3"
  }
 },
 "nbformat": 4,
 "nbformat_minor": 5
}
